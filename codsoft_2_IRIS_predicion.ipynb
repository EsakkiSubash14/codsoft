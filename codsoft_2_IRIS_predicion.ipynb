{
  "nbformat": 4,
  "nbformat_minor": 0,
  "metadata": {
    "colab": {
      "provenance": [],
      "include_colab_link": true
    },
    "kernelspec": {
      "name": "python3",
      "display_name": "Python 3"
    },
    "language_info": {
      "name": "python"
    }
  },
  "cells": [
    {
      "cell_type": "markdown",
      "metadata": {
        "id": "view-in-github",
        "colab_type": "text"
      },
      "source": [
        "<a href=\"https://colab.research.google.com/github/EsakkiSubash14/codsoft/blob/main/codsoft_2_IRIS_predicion.ipynb\" target=\"_parent\"><img src=\"https://colab.research.google.com/assets/colab-badge.svg\" alt=\"Open In Colab\"/></a>"
      ]
    },
    {
      "cell_type": "code",
      "execution_count": null,
      "metadata": {
        "colab": {
          "base_uri": "https://localhost:8080/"
        },
        "id": "U8AN-le02W2I",
        "outputId": "673f2539-c3ce-49b0-a369-2d3fc495d6e9"
      },
      "outputs": [
        {
          "output_type": "stream",
          "name": "stdout",
          "text": [
            "     sepal_length  sepal_width  petal_length  petal_width         species\n",
            "0             5.1          3.5           1.4          0.2     Iris-setosa\n",
            "1             4.9          3.0           1.4          0.2     Iris-setosa\n",
            "2             4.7          3.2           1.3          0.2     Iris-setosa\n",
            "3             4.6          3.1           1.5          0.2     Iris-setosa\n",
            "4             5.0          3.6           1.4          0.2     Iris-setosa\n",
            "..            ...          ...           ...          ...             ...\n",
            "145           6.7          3.0           5.2          2.3  Iris-virginica\n",
            "146           6.3          2.5           5.0          1.9  Iris-virginica\n",
            "147           6.5          3.0           5.2          2.0  Iris-virginica\n",
            "148           6.2          3.4           5.4          2.3  Iris-virginica\n",
            "149           5.9          3.0           5.1          1.8  Iris-virginica\n",
            "\n",
            "[150 rows x 5 columns]\n"
          ]
        }
      ],
      "source": [
        "import pandas as pd\n",
        "a=pd.read_csv(\"IRIS.csv\")\n",
        "print(a)"
      ]
    },
    {
      "cell_type": "code",
      "source": [
        "a.isna()\n"
      ],
      "metadata": {
        "colab": {
          "base_uri": "https://localhost:8080/",
          "height": 424
        },
        "id": "fL3CvKOi2vBF",
        "outputId": "77b9e109-3646-4717-d3d2-cd63af61f6c4"
      },
      "execution_count": null,
      "outputs": [
        {
          "output_type": "execute_result",
          "data": {
            "text/plain": [
              "     sepal_length  sepal_width  petal_length  petal_width  species\n",
              "0           False        False         False        False    False\n",
              "1           False        False         False        False    False\n",
              "2           False        False         False        False    False\n",
              "3           False        False         False        False    False\n",
              "4           False        False         False        False    False\n",
              "..            ...          ...           ...          ...      ...\n",
              "145         False        False         False        False    False\n",
              "146         False        False         False        False    False\n",
              "147         False        False         False        False    False\n",
              "148         False        False         False        False    False\n",
              "149         False        False         False        False    False\n",
              "\n",
              "[150 rows x 5 columns]"
            ],
            "text/html": [
              "\n",
              "  <div id=\"df-a0ec6fbc-64fe-45be-9f28-9b0ead5d72dd\" class=\"colab-df-container\">\n",
              "    <div>\n",
              "<style scoped>\n",
              "    .dataframe tbody tr th:only-of-type {\n",
              "        vertical-align: middle;\n",
              "    }\n",
              "\n",
              "    .dataframe tbody tr th {\n",
              "        vertical-align: top;\n",
              "    }\n",
              "\n",
              "    .dataframe thead th {\n",
              "        text-align: right;\n",
              "    }\n",
              "</style>\n",
              "<table border=\"1\" class=\"dataframe\">\n",
              "  <thead>\n",
              "    <tr style=\"text-align: right;\">\n",
              "      <th></th>\n",
              "      <th>sepal_length</th>\n",
              "      <th>sepal_width</th>\n",
              "      <th>petal_length</th>\n",
              "      <th>petal_width</th>\n",
              "      <th>species</th>\n",
              "    </tr>\n",
              "  </thead>\n",
              "  <tbody>\n",
              "    <tr>\n",
              "      <th>0</th>\n",
              "      <td>False</td>\n",
              "      <td>False</td>\n",
              "      <td>False</td>\n",
              "      <td>False</td>\n",
              "      <td>False</td>\n",
              "    </tr>\n",
              "    <tr>\n",
              "      <th>1</th>\n",
              "      <td>False</td>\n",
              "      <td>False</td>\n",
              "      <td>False</td>\n",
              "      <td>False</td>\n",
              "      <td>False</td>\n",
              "    </tr>\n",
              "    <tr>\n",
              "      <th>2</th>\n",
              "      <td>False</td>\n",
              "      <td>False</td>\n",
              "      <td>False</td>\n",
              "      <td>False</td>\n",
              "      <td>False</td>\n",
              "    </tr>\n",
              "    <tr>\n",
              "      <th>3</th>\n",
              "      <td>False</td>\n",
              "      <td>False</td>\n",
              "      <td>False</td>\n",
              "      <td>False</td>\n",
              "      <td>False</td>\n",
              "    </tr>\n",
              "    <tr>\n",
              "      <th>4</th>\n",
              "      <td>False</td>\n",
              "      <td>False</td>\n",
              "      <td>False</td>\n",
              "      <td>False</td>\n",
              "      <td>False</td>\n",
              "    </tr>\n",
              "    <tr>\n",
              "      <th>...</th>\n",
              "      <td>...</td>\n",
              "      <td>...</td>\n",
              "      <td>...</td>\n",
              "      <td>...</td>\n",
              "      <td>...</td>\n",
              "    </tr>\n",
              "    <tr>\n",
              "      <th>145</th>\n",
              "      <td>False</td>\n",
              "      <td>False</td>\n",
              "      <td>False</td>\n",
              "      <td>False</td>\n",
              "      <td>False</td>\n",
              "    </tr>\n",
              "    <tr>\n",
              "      <th>146</th>\n",
              "      <td>False</td>\n",
              "      <td>False</td>\n",
              "      <td>False</td>\n",
              "      <td>False</td>\n",
              "      <td>False</td>\n",
              "    </tr>\n",
              "    <tr>\n",
              "      <th>147</th>\n",
              "      <td>False</td>\n",
              "      <td>False</td>\n",
              "      <td>False</td>\n",
              "      <td>False</td>\n",
              "      <td>False</td>\n",
              "    </tr>\n",
              "    <tr>\n",
              "      <th>148</th>\n",
              "      <td>False</td>\n",
              "      <td>False</td>\n",
              "      <td>False</td>\n",
              "      <td>False</td>\n",
              "      <td>False</td>\n",
              "    </tr>\n",
              "    <tr>\n",
              "      <th>149</th>\n",
              "      <td>False</td>\n",
              "      <td>False</td>\n",
              "      <td>False</td>\n",
              "      <td>False</td>\n",
              "      <td>False</td>\n",
              "    </tr>\n",
              "  </tbody>\n",
              "</table>\n",
              "<p>150 rows × 5 columns</p>\n",
              "</div>\n",
              "    <div class=\"colab-df-buttons\">\n",
              "\n",
              "  <div class=\"colab-df-container\">\n",
              "    <button class=\"colab-df-convert\" onclick=\"convertToInteractive('df-a0ec6fbc-64fe-45be-9f28-9b0ead5d72dd')\"\n",
              "            title=\"Convert this dataframe to an interactive table.\"\n",
              "            style=\"display:none;\">\n",
              "\n",
              "  <svg xmlns=\"http://www.w3.org/2000/svg\" height=\"24px\" viewBox=\"0 -960 960 960\">\n",
              "    <path d=\"M120-120v-720h720v720H120Zm60-500h600v-160H180v160Zm220 220h160v-160H400v160Zm0 220h160v-160H400v160ZM180-400h160v-160H180v160Zm440 0h160v-160H620v160ZM180-180h160v-160H180v160Zm440 0h160v-160H620v160Z\"/>\n",
              "  </svg>\n",
              "    </button>\n",
              "\n",
              "  <style>\n",
              "    .colab-df-container {\n",
              "      display:flex;\n",
              "      gap: 12px;\n",
              "    }\n",
              "\n",
              "    .colab-df-convert {\n",
              "      background-color: #E8F0FE;\n",
              "      border: none;\n",
              "      border-radius: 50%;\n",
              "      cursor: pointer;\n",
              "      display: none;\n",
              "      fill: #1967D2;\n",
              "      height: 32px;\n",
              "      padding: 0 0 0 0;\n",
              "      width: 32px;\n",
              "    }\n",
              "\n",
              "    .colab-df-convert:hover {\n",
              "      background-color: #E2EBFA;\n",
              "      box-shadow: 0px 1px 2px rgba(60, 64, 67, 0.3), 0px 1px 3px 1px rgba(60, 64, 67, 0.15);\n",
              "      fill: #174EA6;\n",
              "    }\n",
              "\n",
              "    .colab-df-buttons div {\n",
              "      margin-bottom: 4px;\n",
              "    }\n",
              "\n",
              "    [theme=dark] .colab-df-convert {\n",
              "      background-color: #3B4455;\n",
              "      fill: #D2E3FC;\n",
              "    }\n",
              "\n",
              "    [theme=dark] .colab-df-convert:hover {\n",
              "      background-color: #434B5C;\n",
              "      box-shadow: 0px 1px 3px 1px rgba(0, 0, 0, 0.15);\n",
              "      filter: drop-shadow(0px 1px 2px rgba(0, 0, 0, 0.3));\n",
              "      fill: #FFFFFF;\n",
              "    }\n",
              "  </style>\n",
              "\n",
              "    <script>\n",
              "      const buttonEl =\n",
              "        document.querySelector('#df-a0ec6fbc-64fe-45be-9f28-9b0ead5d72dd button.colab-df-convert');\n",
              "      buttonEl.style.display =\n",
              "        google.colab.kernel.accessAllowed ? 'block' : 'none';\n",
              "\n",
              "      async function convertToInteractive(key) {\n",
              "        const element = document.querySelector('#df-a0ec6fbc-64fe-45be-9f28-9b0ead5d72dd');\n",
              "        const dataTable =\n",
              "          await google.colab.kernel.invokeFunction('convertToInteractive',\n",
              "                                                    [key], {});\n",
              "        if (!dataTable) return;\n",
              "\n",
              "        const docLinkHtml = 'Like what you see? Visit the ' +\n",
              "          '<a target=\"_blank\" href=https://colab.research.google.com/notebooks/data_table.ipynb>data table notebook</a>'\n",
              "          + ' to learn more about interactive tables.';\n",
              "        element.innerHTML = '';\n",
              "        dataTable['output_type'] = 'display_data';\n",
              "        await google.colab.output.renderOutput(dataTable, element);\n",
              "        const docLink = document.createElement('div');\n",
              "        docLink.innerHTML = docLinkHtml;\n",
              "        element.appendChild(docLink);\n",
              "      }\n",
              "    </script>\n",
              "  </div>\n",
              "\n",
              "\n",
              "<div id=\"df-3ccce348-a2ff-4fd3-a15e-9a8f8bcae139\">\n",
              "  <button class=\"colab-df-quickchart\" onclick=\"quickchart('df-3ccce348-a2ff-4fd3-a15e-9a8f8bcae139')\"\n",
              "            title=\"Suggest charts.\"\n",
              "            style=\"display:none;\">\n",
              "\n",
              "<svg xmlns=\"http://www.w3.org/2000/svg\" height=\"24px\"viewBox=\"0 0 24 24\"\n",
              "     width=\"24px\">\n",
              "    <g>\n",
              "        <path d=\"M19 3H5c-1.1 0-2 .9-2 2v14c0 1.1.9 2 2 2h14c1.1 0 2-.9 2-2V5c0-1.1-.9-2-2-2zM9 17H7v-7h2v7zm4 0h-2V7h2v10zm4 0h-2v-4h2v4z\"/>\n",
              "    </g>\n",
              "</svg>\n",
              "  </button>\n",
              "\n",
              "<style>\n",
              "  .colab-df-quickchart {\n",
              "      --bg-color: #E8F0FE;\n",
              "      --fill-color: #1967D2;\n",
              "      --hover-bg-color: #E2EBFA;\n",
              "      --hover-fill-color: #174EA6;\n",
              "      --disabled-fill-color: #AAA;\n",
              "      --disabled-bg-color: #DDD;\n",
              "  }\n",
              "\n",
              "  [theme=dark] .colab-df-quickchart {\n",
              "      --bg-color: #3B4455;\n",
              "      --fill-color: #D2E3FC;\n",
              "      --hover-bg-color: #434B5C;\n",
              "      --hover-fill-color: #FFFFFF;\n",
              "      --disabled-bg-color: #3B4455;\n",
              "      --disabled-fill-color: #666;\n",
              "  }\n",
              "\n",
              "  .colab-df-quickchart {\n",
              "    background-color: var(--bg-color);\n",
              "    border: none;\n",
              "    border-radius: 50%;\n",
              "    cursor: pointer;\n",
              "    display: none;\n",
              "    fill: var(--fill-color);\n",
              "    height: 32px;\n",
              "    padding: 0;\n",
              "    width: 32px;\n",
              "  }\n",
              "\n",
              "  .colab-df-quickchart:hover {\n",
              "    background-color: var(--hover-bg-color);\n",
              "    box-shadow: 0 1px 2px rgba(60, 64, 67, 0.3), 0 1px 3px 1px rgba(60, 64, 67, 0.15);\n",
              "    fill: var(--button-hover-fill-color);\n",
              "  }\n",
              "\n",
              "  .colab-df-quickchart-complete:disabled,\n",
              "  .colab-df-quickchart-complete:disabled:hover {\n",
              "    background-color: var(--disabled-bg-color);\n",
              "    fill: var(--disabled-fill-color);\n",
              "    box-shadow: none;\n",
              "  }\n",
              "\n",
              "  .colab-df-spinner {\n",
              "    border: 2px solid var(--fill-color);\n",
              "    border-color: transparent;\n",
              "    border-bottom-color: var(--fill-color);\n",
              "    animation:\n",
              "      spin 1s steps(1) infinite;\n",
              "  }\n",
              "\n",
              "  @keyframes spin {\n",
              "    0% {\n",
              "      border-color: transparent;\n",
              "      border-bottom-color: var(--fill-color);\n",
              "      border-left-color: var(--fill-color);\n",
              "    }\n",
              "    20% {\n",
              "      border-color: transparent;\n",
              "      border-left-color: var(--fill-color);\n",
              "      border-top-color: var(--fill-color);\n",
              "    }\n",
              "    30% {\n",
              "      border-color: transparent;\n",
              "      border-left-color: var(--fill-color);\n",
              "      border-top-color: var(--fill-color);\n",
              "      border-right-color: var(--fill-color);\n",
              "    }\n",
              "    40% {\n",
              "      border-color: transparent;\n",
              "      border-right-color: var(--fill-color);\n",
              "      border-top-color: var(--fill-color);\n",
              "    }\n",
              "    60% {\n",
              "      border-color: transparent;\n",
              "      border-right-color: var(--fill-color);\n",
              "    }\n",
              "    80% {\n",
              "      border-color: transparent;\n",
              "      border-right-color: var(--fill-color);\n",
              "      border-bottom-color: var(--fill-color);\n",
              "    }\n",
              "    90% {\n",
              "      border-color: transparent;\n",
              "      border-bottom-color: var(--fill-color);\n",
              "    }\n",
              "  }\n",
              "</style>\n",
              "\n",
              "  <script>\n",
              "    async function quickchart(key) {\n",
              "      const quickchartButtonEl =\n",
              "        document.querySelector('#' + key + ' button');\n",
              "      quickchartButtonEl.disabled = true;  // To prevent multiple clicks.\n",
              "      quickchartButtonEl.classList.add('colab-df-spinner');\n",
              "      try {\n",
              "        const charts = await google.colab.kernel.invokeFunction(\n",
              "            'suggestCharts', [key], {});\n",
              "      } catch (error) {\n",
              "        console.error('Error during call to suggestCharts:', error);\n",
              "      }\n",
              "      quickchartButtonEl.classList.remove('colab-df-spinner');\n",
              "      quickchartButtonEl.classList.add('colab-df-quickchart-complete');\n",
              "    }\n",
              "    (() => {\n",
              "      let quickchartButtonEl =\n",
              "        document.querySelector('#df-3ccce348-a2ff-4fd3-a15e-9a8f8bcae139 button');\n",
              "      quickchartButtonEl.style.display =\n",
              "        google.colab.kernel.accessAllowed ? 'block' : 'none';\n",
              "    })();\n",
              "  </script>\n",
              "</div>\n",
              "    </div>\n",
              "  </div>\n"
            ]
          },
          "metadata": {},
          "execution_count": 2
        }
      ]
    },
    {
      "cell_type": "code",
      "source": [
        "from sklearn import preprocessing\n",
        "s=preprocessing.LabelEncoder()\n",
        "a[\"species\"]=s.fit_transform(a[\"species\"])"
      ],
      "metadata": {
        "id": "1jtXibxJ2u-t"
      },
      "execution_count": null,
      "outputs": []
    },
    {
      "cell_type": "code",
      "source": [
        "x=a.iloc[:,:-1].values\n",
        "print()\n",
        "print(\"*****SEPARATING THE ROWS AND COLUMNS*****\")\n",
        "print()\n",
        "print(\"*****FEATURES*****:\")\n",
        "print()\n",
        "print(x)\n",
        "print()\n",
        "print(\"*****TARGET VALUES*****:\")\n",
        "print()\n",
        "y=a[\"species\"]\n",
        "print(y)"
      ],
      "metadata": {
        "colab": {
          "base_uri": "https://localhost:8080/"
        },
        "id": "8XJveIRD2u8X",
        "outputId": "efb38482-898f-4349-a9c0-db4a972a43ff"
      },
      "execution_count": null,
      "outputs": [
        {
          "output_type": "stream",
          "name": "stdout",
          "text": [
            "\n",
            "*****SEPARATING THE ROWS AND COLUMNS*****\n",
            "\n",
            "*****FEATURES*****:\n",
            "\n",
            "[[5.1 3.5 1.4 0.2]\n",
            " [4.9 3.  1.4 0.2]\n",
            " [4.7 3.2 1.3 0.2]\n",
            " [4.6 3.1 1.5 0.2]\n",
            " [5.  3.6 1.4 0.2]\n",
            " [5.4 3.9 1.7 0.4]\n",
            " [4.6 3.4 1.4 0.3]\n",
            " [5.  3.4 1.5 0.2]\n",
            " [4.4 2.9 1.4 0.2]\n",
            " [4.9 3.1 1.5 0.1]\n",
            " [5.4 3.7 1.5 0.2]\n",
            " [4.8 3.4 1.6 0.2]\n",
            " [4.8 3.  1.4 0.1]\n",
            " [4.3 3.  1.1 0.1]\n",
            " [5.8 4.  1.2 0.2]\n",
            " [5.7 4.4 1.5 0.4]\n",
            " [5.4 3.9 1.3 0.4]\n",
            " [5.1 3.5 1.4 0.3]\n",
            " [5.7 3.8 1.7 0.3]\n",
            " [5.1 3.8 1.5 0.3]\n",
            " [5.4 3.4 1.7 0.2]\n",
            " [5.1 3.7 1.5 0.4]\n",
            " [4.6 3.6 1.  0.2]\n",
            " [5.1 3.3 1.7 0.5]\n",
            " [4.8 3.4 1.9 0.2]\n",
            " [5.  3.  1.6 0.2]\n",
            " [5.  3.4 1.6 0.4]\n",
            " [5.2 3.5 1.5 0.2]\n",
            " [5.2 3.4 1.4 0.2]\n",
            " [4.7 3.2 1.6 0.2]\n",
            " [4.8 3.1 1.6 0.2]\n",
            " [5.4 3.4 1.5 0.4]\n",
            " [5.2 4.1 1.5 0.1]\n",
            " [5.5 4.2 1.4 0.2]\n",
            " [4.9 3.1 1.5 0.1]\n",
            " [5.  3.2 1.2 0.2]\n",
            " [5.5 3.5 1.3 0.2]\n",
            " [4.9 3.1 1.5 0.1]\n",
            " [4.4 3.  1.3 0.2]\n",
            " [5.1 3.4 1.5 0.2]\n",
            " [5.  3.5 1.3 0.3]\n",
            " [4.5 2.3 1.3 0.3]\n",
            " [4.4 3.2 1.3 0.2]\n",
            " [5.  3.5 1.6 0.6]\n",
            " [5.1 3.8 1.9 0.4]\n",
            " [4.8 3.  1.4 0.3]\n",
            " [5.1 3.8 1.6 0.2]\n",
            " [4.6 3.2 1.4 0.2]\n",
            " [5.3 3.7 1.5 0.2]\n",
            " [5.  3.3 1.4 0.2]\n",
            " [7.  3.2 4.7 1.4]\n",
            " [6.4 3.2 4.5 1.5]\n",
            " [6.9 3.1 4.9 1.5]\n",
            " [5.5 2.3 4.  1.3]\n",
            " [6.5 2.8 4.6 1.5]\n",
            " [5.7 2.8 4.5 1.3]\n",
            " [6.3 3.3 4.7 1.6]\n",
            " [4.9 2.4 3.3 1. ]\n",
            " [6.6 2.9 4.6 1.3]\n",
            " [5.2 2.7 3.9 1.4]\n",
            " [5.  2.  3.5 1. ]\n",
            " [5.9 3.  4.2 1.5]\n",
            " [6.  2.2 4.  1. ]\n",
            " [6.1 2.9 4.7 1.4]\n",
            " [5.6 2.9 3.6 1.3]\n",
            " [6.7 3.1 4.4 1.4]\n",
            " [5.6 3.  4.5 1.5]\n",
            " [5.8 2.7 4.1 1. ]\n",
            " [6.2 2.2 4.5 1.5]\n",
            " [5.6 2.5 3.9 1.1]\n",
            " [5.9 3.2 4.8 1.8]\n",
            " [6.1 2.8 4.  1.3]\n",
            " [6.3 2.5 4.9 1.5]\n",
            " [6.1 2.8 4.7 1.2]\n",
            " [6.4 2.9 4.3 1.3]\n",
            " [6.6 3.  4.4 1.4]\n",
            " [6.8 2.8 4.8 1.4]\n",
            " [6.7 3.  5.  1.7]\n",
            " [6.  2.9 4.5 1.5]\n",
            " [5.7 2.6 3.5 1. ]\n",
            " [5.5 2.4 3.8 1.1]\n",
            " [5.5 2.4 3.7 1. ]\n",
            " [5.8 2.7 3.9 1.2]\n",
            " [6.  2.7 5.1 1.6]\n",
            " [5.4 3.  4.5 1.5]\n",
            " [6.  3.4 4.5 1.6]\n",
            " [6.7 3.1 4.7 1.5]\n",
            " [6.3 2.3 4.4 1.3]\n",
            " [5.6 3.  4.1 1.3]\n",
            " [5.5 2.5 4.  1.3]\n",
            " [5.5 2.6 4.4 1.2]\n",
            " [6.1 3.  4.6 1.4]\n",
            " [5.8 2.6 4.  1.2]\n",
            " [5.  2.3 3.3 1. ]\n",
            " [5.6 2.7 4.2 1.3]\n",
            " [5.7 3.  4.2 1.2]\n",
            " [5.7 2.9 4.2 1.3]\n",
            " [6.2 2.9 4.3 1.3]\n",
            " [5.1 2.5 3.  1.1]\n",
            " [5.7 2.8 4.1 1.3]\n",
            " [6.3 3.3 6.  2.5]\n",
            " [5.8 2.7 5.1 1.9]\n",
            " [7.1 3.  5.9 2.1]\n",
            " [6.3 2.9 5.6 1.8]\n",
            " [6.5 3.  5.8 2.2]\n",
            " [7.6 3.  6.6 2.1]\n",
            " [4.9 2.5 4.5 1.7]\n",
            " [7.3 2.9 6.3 1.8]\n",
            " [6.7 2.5 5.8 1.8]\n",
            " [7.2 3.6 6.1 2.5]\n",
            " [6.5 3.2 5.1 2. ]\n",
            " [6.4 2.7 5.3 1.9]\n",
            " [6.8 3.  5.5 2.1]\n",
            " [5.7 2.5 5.  2. ]\n",
            " [5.8 2.8 5.1 2.4]\n",
            " [6.4 3.2 5.3 2.3]\n",
            " [6.5 3.  5.5 1.8]\n",
            " [7.7 3.8 6.7 2.2]\n",
            " [7.7 2.6 6.9 2.3]\n",
            " [6.  2.2 5.  1.5]\n",
            " [6.9 3.2 5.7 2.3]\n",
            " [5.6 2.8 4.9 2. ]\n",
            " [7.7 2.8 6.7 2. ]\n",
            " [6.3 2.7 4.9 1.8]\n",
            " [6.7 3.3 5.7 2.1]\n",
            " [7.2 3.2 6.  1.8]\n",
            " [6.2 2.8 4.8 1.8]\n",
            " [6.1 3.  4.9 1.8]\n",
            " [6.4 2.8 5.6 2.1]\n",
            " [7.2 3.  5.8 1.6]\n",
            " [7.4 2.8 6.1 1.9]\n",
            " [7.9 3.8 6.4 2. ]\n",
            " [6.4 2.8 5.6 2.2]\n",
            " [6.3 2.8 5.1 1.5]\n",
            " [6.1 2.6 5.6 1.4]\n",
            " [7.7 3.  6.1 2.3]\n",
            " [6.3 3.4 5.6 2.4]\n",
            " [6.4 3.1 5.5 1.8]\n",
            " [6.  3.  4.8 1.8]\n",
            " [6.9 3.1 5.4 2.1]\n",
            " [6.7 3.1 5.6 2.4]\n",
            " [6.9 3.1 5.1 2.3]\n",
            " [5.8 2.7 5.1 1.9]\n",
            " [6.8 3.2 5.9 2.3]\n",
            " [6.7 3.3 5.7 2.5]\n",
            " [6.7 3.  5.2 2.3]\n",
            " [6.3 2.5 5.  1.9]\n",
            " [6.5 3.  5.2 2. ]\n",
            " [6.2 3.4 5.4 2.3]\n",
            " [5.9 3.  5.1 1.8]]\n",
            "\n",
            "*****TARGET VALUES*****:\n",
            "\n",
            "0      0\n",
            "1      0\n",
            "2      0\n",
            "3      0\n",
            "4      0\n",
            "      ..\n",
            "145    2\n",
            "146    2\n",
            "147    2\n",
            "148    2\n",
            "149    2\n",
            "Name: species, Length: 150, dtype: int64\n"
          ]
        }
      ]
    },
    {
      "cell_type": "code",
      "source": [
        "import seaborn as s\n",
        "s.countplot(x=a[\"sepal_length\"],hue=a[\"species\"])"
      ],
      "metadata": {
        "colab": {
          "base_uri": "https://localhost:8080/",
          "height": 467
        },
        "id": "44GPKiyG3rh3",
        "outputId": "4e3f041f-a83b-4923-e170-4e2d295996c4"
      },
      "execution_count": null,
      "outputs": [
        {
          "output_type": "execute_result",
          "data": {
            "text/plain": [
              "<Axes: xlabel='sepal_length', ylabel='count'>"
            ]
          },
          "metadata": {},
          "execution_count": 8
        },
        {
          "output_type": "display_data",
          "data": {
            "text/plain": [
              "<Figure size 640x480 with 1 Axes>"
            ],
            "image/png": "[encoded data removed]"
          },
          "metadata": {}
        }
      ]
    },
    {
      "cell_type": "code",
      "source": [
        "s.countplot(x=a[\"sepal_width\"],hue=a[\"species\"])"
      ],
      "metadata": {
        "colab": {
          "base_uri": "https://localhost:8080/",
          "height": 467
        },
        "id": "XL4KFU4C3svl",
        "outputId": "7230f654-a101-48f3-bc3c-310b8565e8b3"
      },
      "execution_count": null,
      "outputs": [
        {
          "output_type": "execute_result",
          "data": {
            "text/plain": [
              "<Axes: xlabel='sepal_width', ylabel='count'>"
            ]
          },
          "metadata": {},
          "execution_count": 9
        },
        {
          "output_type": "display_data",
          "data": {
            "text/plain": [
              "<Figure size 640x480 with 1 Axes>"
            ],
            "image/png": "[encoded data removed]"
          },
          "metadata": {}
        }
      ]
    },
    {
      "cell_type": "code",
      "source": [
        "s.countplot(x=a[\"petal_length\"],hue=a[\"species\"])"
      ],
      "metadata": {
        "colab": {
          "base_uri": "https://localhost:8080/",
          "height": 467
        },
        "id": "C1PMo0B63stG",
        "outputId": "27ecdf29-dc51-4b9e-c650-88c5b1d2f4e8"
      },
      "execution_count": null,
      "outputs": [
        {
          "output_type": "execute_result",
          "data": {
            "text/plain": [
              "<Axes: xlabel='petal_length', ylabel='count'>"
            ]
          },
          "metadata": {},
          "execution_count": 10
        },
        {
          "output_type": "display_data",
          "data": {
            "text/plain": [
              "<Figure size 640x480 with 1 Axes>"
            ],
            "image/png": "[encoded data removed]"
          },
          "metadata": {}
        }
      ]
    },
    {
      "cell_type": "code",
      "source": [
        "s.countplot(x=a[\"petal_width\"],hue=a[\"species\"])"
      ],
      "metadata": {
        "colab": {
          "base_uri": "https://localhost:8080/",
          "height": 467
        },
        "id": "IX2W6N2t3squ",
        "outputId": "c71985ab-6c62-488b-b105-73e1fb87e9cb"
      },
      "execution_count": null,
      "outputs": [
        {
          "output_type": "execute_result",
          "data": {
            "text/plain": [
              "<Axes: xlabel='petal_width', ylabel='count'>"
            ]
          },
          "metadata": {},
          "execution_count": 11
        },
        {
          "output_type": "display_data",
          "data": {
            "text/plain": [
              "<Figure size 640x480 with 1 Axes>"
            ],
            "image/png": "[encoded data removed]"
          },
          "metadata": {}
        }
      ]
    },
    {
      "cell_type": "code",
      "source": [
        "from sklearn.model_selection import train_test_split\n",
        "x_train, x_test, y_train, y_test= train_test_split(x,y ,test_size=0.30, shuffle=True)\n",
        "print()\n",
        "print(\"*****DATA SPLITTING*****:\")\n",
        "print()\n",
        "print(\"*****TRAINING VALUES IN X TRAIN*****:\")\n",
        "print()\n",
        "print(x_train)\n",
        "print()\n",
        "print(\"*****TEST VALUES IN X TEST*****:\")\n",
        "print()\n",
        "print(x_test)\n",
        "print()\n",
        "print(\"*****TRAINING VALUES IN Y TRAIN*****:\")\n",
        "print()\n",
        "print(y_train)\n",
        "print()\n",
        "print(\"*****TEST VALUES IN Y TEST*****:\")\n",
        "print()\n",
        "print(y_test)"
      ],
      "metadata": {
        "colab": {
          "base_uri": "https://localhost:8080/"
        },
        "id": "_6n0SSyX5BNV",
        "outputId": "c04ae8ba-d2f4-400d-ce1c-7b490f1fb905"
      },
      "execution_count": null,
      "outputs": [
        {
          "output_type": "stream",
          "name": "stdout",
          "text": [
            "\n",
            "*****DATA SPLITTING*****:\n",
            "\n",
            "*****TRAINING VALUES IN X TRAIN*****:\n",
            "\n",
            "[[4.9 3.1 1.5 0.1]\n",
            " [5.2 2.7 3.9 1.4]\n",
            " [4.9 2.5 4.5 1.7]\n",
            " [6.9 3.1 5.1 2.3]\n",
            " [6.6 2.9 4.6 1.3]\n",
            " [4.8 3.4 1.6 0.2]\n",
            " [6.9 3.1 4.9 1.5]\n",
            " [7.7 3.8 6.7 2.2]\n",
            " [6.2 3.4 5.4 2.3]\n",
            " [5.1 2.5 3.  1.1]\n",
            " [6.  2.9 4.5 1.5]\n",
            " [6.5 3.  5.5 1.8]\n",
            " [4.6 3.4 1.4 0.3]\n",
            " [5.9 3.  5.1 1.8]\n",
            " [4.3 3.  1.1 0.1]\n",
            " [5.1 3.5 1.4 0.3]\n",
            " [4.4 2.9 1.4 0.2]\n",
            " [6.4 3.2 5.3 2.3]\n",
            " [4.8 3.4 1.9 0.2]\n",
            " [5.7 2.5 5.  2. ]\n",
            " [6.1 2.8 4.  1.3]\n",
            " [7.2 3.2 6.  1.8]\n",
            " [6.9 3.2 5.7 2.3]\n",
            " [5.9 3.  4.2 1.5]\n",
            " [6.2 2.2 4.5 1.5]\n",
            " [5.8 2.7 4.1 1. ]\n",
            " [6.4 3.1 5.5 1.8]\n",
            " [6.1 3.  4.9 1.8]\n",
            " [5.  3.2 1.2 0.2]\n",
            " [6.  3.  4.8 1.8]\n",
            " [5.2 3.5 1.5 0.2]\n",
            " [5.4 3.  4.5 1.5]\n",
            " [5.7 2.8 4.1 1.3]\n",
            " [6.3 3.4 5.6 2.4]\n",
            " [6.5 3.  5.8 2.2]\n",
            " [6.3 2.9 5.6 1.8]\n",
            " [6.7 3.  5.2 2.3]\n",
            " [6.7 3.1 4.4 1.4]\n",
            " [6.1 2.6 5.6 1.4]\n",
            " [5.  3.5 1.6 0.6]\n",
            " [4.5 2.3 1.3 0.3]\n",
            " [4.9 2.4 3.3 1. ]\n",
            " [5.  3.4 1.5 0.2]\n",
            " [4.6 3.2 1.4 0.2]\n",
            " [6.3 2.7 4.9 1.8]\n",
            " [6.5 2.8 4.6 1.5]\n",
            " [5.  3.5 1.3 0.3]\n",
            " [4.4 3.  1.3 0.2]\n",
            " [5.4 3.9 1.3 0.4]\n",
            " [6.4 2.7 5.3 1.9]\n",
            " [5.1 3.8 1.6 0.2]\n",
            " [6.2 2.9 4.3 1.3]\n",
            " [5.4 3.4 1.7 0.2]\n",
            " [5.7 4.4 1.5 0.4]\n",
            " [5.6 2.5 3.9 1.1]\n",
            " [5.5 2.3 4.  1.3]\n",
            " [6.6 3.  4.4 1.4]\n",
            " [5.  3.  1.6 0.2]\n",
            " [6.4 2.8 5.6 2.2]\n",
            " [7.7 3.  6.1 2.3]\n",
            " [5.4 3.7 1.5 0.2]\n",
            " [6.  2.2 5.  1.5]\n",
            " [5.2 3.4 1.4 0.2]\n",
            " [5.5 3.5 1.3 0.2]\n",
            " [5.  3.4 1.6 0.4]\n",
            " [4.6 3.1 1.5 0.2]\n",
            " [7.7 2.8 6.7 2. ]\n",
            " [6.7 3.1 5.6 2.4]\n",
            " [5.8 2.7 5.1 1.9]\n",
            " [5.6 2.7 4.2 1.3]\n",
            " [5.1 3.8 1.9 0.4]\n",
            " [6.7 3.3 5.7 2.1]\n",
            " [5.5 2.4 3.7 1. ]\n",
            " [4.8 3.  1.4 0.3]\n",
            " [4.7 3.2 1.3 0.2]\n",
            " [6.4 3.2 4.5 1.5]\n",
            " [6.  3.4 4.5 1.6]\n",
            " [5.  2.  3.5 1. ]\n",
            " [5.9 3.2 4.8 1.8]\n",
            " [7.9 3.8 6.4 2. ]\n",
            " [5.6 2.9 3.6 1.3]\n",
            " [6.3 2.5 4.9 1.5]\n",
            " [5.7 2.8 4.5 1.3]\n",
            " [7.6 3.  6.6 2.1]\n",
            " [5.7 3.8 1.7 0.3]\n",
            " [5.  2.3 3.3 1. ]\n",
            " [6.7 3.1 4.7 1.5]\n",
            " [5.1 3.8 1.5 0.3]\n",
            " [5.2 4.1 1.5 0.1]\n",
            " [6.  2.2 4.  1. ]\n",
            " [6.1 2.8 4.7 1.2]\n",
            " [6.  2.7 5.1 1.6]\n",
            " [6.9 3.1 5.4 2.1]\n",
            " [5.8 2.6 4.  1.2]\n",
            " [7.4 2.8 6.1 1.9]\n",
            " [4.6 3.6 1.  0.2]\n",
            " [6.3 2.3 4.4 1.3]\n",
            " [6.2 2.8 4.8 1.8]\n",
            " [5.1 3.5 1.4 0.2]\n",
            " [6.7 3.3 5.7 2.5]\n",
            " [7.1 3.  5.9 2.1]\n",
            " [5.1 3.7 1.5 0.4]\n",
            " [4.4 3.2 1.3 0.2]\n",
            " [6.3 3.3 4.7 1.6]\n",
            " [5.  3.3 1.4 0.2]]\n",
            "\n",
            "*****TEST VALUES IN X TEST*****:\n",
            "\n",
            "[[6.4 2.9 4.3 1.3]\n",
            " [5.5 4.2 1.4 0.2]\n",
            " [4.9 3.1 1.5 0.1]\n",
            " [5.6 3.  4.1 1.3]\n",
            " [6.5 3.  5.2 2. ]\n",
            " [7.2 3.6 6.1 2.5]\n",
            " [5.1 3.4 1.5 0.2]\n",
            " [4.9 3.1 1.5 0.1]\n",
            " [5.5 2.4 3.8 1.1]\n",
            " [6.3 2.5 5.  1.9]\n",
            " [6.1 3.  4.6 1.4]\n",
            " [5.7 2.6 3.5 1. ]\n",
            " [7.2 3.  5.8 1.6]\n",
            " [5.1 3.3 1.7 0.5]\n",
            " [5.4 3.9 1.7 0.4]\n",
            " [4.7 3.2 1.6 0.2]\n",
            " [4.9 3.  1.4 0.2]\n",
            " [5.5 2.5 4.  1.3]\n",
            " [4.8 3.1 1.6 0.2]\n",
            " [7.  3.2 4.7 1.4]\n",
            " [5.6 3.  4.5 1.5]\n",
            " [5.  3.6 1.4 0.2]\n",
            " [6.5 3.2 5.1 2. ]\n",
            " [5.6 2.8 4.9 2. ]\n",
            " [5.7 3.  4.2 1.2]\n",
            " [6.7 2.5 5.8 1.8]\n",
            " [5.8 2.8 5.1 2.4]\n",
            " [5.7 2.9 4.2 1.3]\n",
            " [6.8 2.8 4.8 1.4]\n",
            " [6.3 3.3 6.  2.5]\n",
            " [5.5 2.6 4.4 1.2]\n",
            " [6.4 2.8 5.6 2.1]\n",
            " [7.3 2.9 6.3 1.8]\n",
            " [4.8 3.  1.4 0.1]\n",
            " [6.8 3.  5.5 2.1]\n",
            " [5.4 3.4 1.5 0.4]\n",
            " [7.7 2.6 6.9 2.3]\n",
            " [6.1 2.9 4.7 1.4]\n",
            " [6.3 2.8 5.1 1.5]\n",
            " [5.8 2.7 5.1 1.9]\n",
            " [6.8 3.2 5.9 2.3]\n",
            " [5.8 4.  1.2 0.2]\n",
            " [5.3 3.7 1.5 0.2]\n",
            " [5.8 2.7 3.9 1.2]\n",
            " [6.7 3.  5.  1.7]]\n",
            "\n",
            "*****TRAINING VALUES IN Y TRAIN*****:\n",
            "\n",
            "34     0\n",
            "59     1\n",
            "106    2\n",
            "141    2\n",
            "58     1\n",
            "      ..\n",
            "102    2\n",
            "21     0\n",
            "42     0\n",
            "56     1\n",
            "49     0\n",
            "Name: species, Length: 105, dtype: int64\n",
            "\n",
            "*****TEST VALUES IN Y TEST*****:\n",
            "\n",
            "74     1\n",
            "33     0\n",
            "9      0\n",
            "88     1\n",
            "147    2\n",
            "109    2\n",
            "39     0\n",
            "37     0\n",
            "80     1\n",
            "146    2\n",
            "91     1\n",
            "79     1\n",
            "129    2\n",
            "23     0\n",
            "5      0\n",
            "29     0\n",
            "1      0\n",
            "89     1\n",
            "30     0\n",
            "50     1\n",
            "66     1\n",
            "4      0\n",
            "110    2\n",
            "121    2\n",
            "95     1\n",
            "108    2\n",
            "114    2\n",
            "96     1\n",
            "76     1\n",
            "100    2\n",
            "90     1\n",
            "128    2\n",
            "107    2\n",
            "12     0\n",
            "112    2\n",
            "31     0\n",
            "118    2\n",
            "63     1\n",
            "133    2\n",
            "142    2\n",
            "143    2\n",
            "14     0\n",
            "48     0\n",
            "82     1\n",
            "77     1\n",
            "Name: species, dtype: int64\n"
          ]
        }
      ]
    },
    {
      "cell_type": "code",
      "source": [
        "from sklearn.linear_model import LogisticRegression\n",
        "from sklearn.metrics import accuracy_score\n",
        "l=LogisticRegression()\n",
        "l.fit(x_train,y_train)\n",
        "prediction1=l.predict(x_test)\n",
        "print()\n",
        "print(\"******DATA CLASSIFICATION******\")\n",
        "print()\n",
        "print(\"****ACCURACY BY USING LOGISTIC REGRESSION ALGORITHM****:\")\n",
        "print()\n",
        "print(\"ACCURACY =\",accuracy_score(y_test,prediction1))"
      ],
      "metadata": {
        "colab": {
          "base_uri": "https://localhost:8080/"
        },
        "id": "mRZgcvl_2u3-",
        "outputId": "04df9e65-c8bd-44bd-83db-d811a8e68afb"
      },
      "execution_count": null,
      "outputs": [
        {
          "output_type": "stream",
          "name": "stdout",
          "text": [
            "\n",
            "******DATA CLASSIFICATION******\n",
            "\n",
            "****ACCURACY BY USING LOGISTIC REGRESSION ALGORITHM****:\n",
            "\n",
            "ACCURACY = 0.9777777777777777\n"
          ]
        }
      ]
    },
    {
      "cell_type": "code",
      "source": [
        "from sklearn.tree import DecisionTreeClassifier\n",
        "v=DecisionTreeClassifier()\n",
        "v.fit(x_train,y_train)\n",
        "prediction2=v.predict(x_test)\n",
        "print(\"******DATA CLASSIFICATION******\")\n",
        "print()\n",
        "print(\"****ACCURACY BY USING DECISION TREE CLASSIFIER ALGORITHM****:\")\n",
        "print()\n",
        "print(\"ACCURACY = \",accuracy_score(y_test,prediction2))"
      ],
      "metadata": {
        "colab": {
          "base_uri": "https://localhost:8080/"
        },
        "id": "uon_MLBi2u1l",
        "outputId": "373f9330-4546-4d71-acf1-22631567b696"
      },
      "execution_count": null,
      "outputs": [
        {
          "output_type": "stream",
          "name": "stdout",
          "text": [
            "******DATA CLASSIFICATION******\n",
            "\n",
            "****ACCURACY BY USING DECISION TREE CLASSIFIER ALGORITHM****:\n",
            "\n",
            "ACCURACY =  0.9555555555555556\n"
          ]
        }
      ]
    },
    {
      "cell_type": "code",
      "source": [
        "from sklearn.ensemble import RandomForestClassifier\n",
        "r=RandomForestClassifier()\n",
        "r.fit(x_train,y_train)\n",
        "prediction3=r.predict(x_test)\n",
        "print(\"******DATA CLASSIFICATION******\")\n",
        "print(\"****ACCURACY BY USING RANDOM FOREST CLASSFIER ALGORITHM****:\")\n",
        "print(\" ACCURACY = \",accuracy_score(y_test,prediction3))\n",
        "\n"
      ],
      "metadata": {
        "colab": {
          "base_uri": "https://localhost:8080/"
        },
        "id": "Gj7ysBvU2uzN",
        "outputId": "b1dc8a9a-c0f1-4605-9a00-836cf278beda"
      },
      "execution_count": null,
      "outputs": [
        {
          "output_type": "stream",
          "name": "stdout",
          "text": [
            "******DATA CLASSIFICATION******\n",
            "****ACCURACY BY USING RANDOM FOREST CLASSFIER ALGORITHM****:\n",
            " ACCURACY =  0.9555555555555556\n"
          ]
        }
      ]
    },
    {
      "cell_type": "code",
      "source": [
        "from sklearn.naive_bayes import GaussianNB\n",
        "g=GaussianNB()\n",
        "g.fit(x_train,y_train)\n",
        "prediction4=g.predict(x_test)\n",
        "print(\"******DATA CLASSIFICATION******\")\n",
        "print(\"****ACCURACY BY USING GAUSSIAN NB ALGORITHM****:\")\n",
        "print(\"ACCURACY = \",accuracy_score(y_test,prediction4))\n",
        "\n"
      ],
      "metadata": {
        "colab": {
          "base_uri": "https://localhost:8080/"
        },
        "id": "Vr5inf9K2uw-",
        "outputId": "d5e807c3-4480-4494-dd6c-4c0fb912f174"
      },
      "execution_count": null,
      "outputs": [
        {
          "output_type": "stream",
          "name": "stdout",
          "text": [
            "******DATA CLASSIFICATION******\n",
            "****ACCURACY BY USING GAUSSIAN NB ALGORITHM****:\n",
            "ACCURACY =  0.9555555555555556\n"
          ]
        }
      ]
    },
    {
      "cell_type": "code",
      "source": [
        "from sklearn.neighbors import KNeighborsClassifier\n",
        "n=KNeighborsClassifier()\n",
        "n.fit(x_train,y_train)\n",
        "prediction5=n.predict(x_test)\n",
        "print(\"******DATA CLASSIFICATION******\")\n",
        "print(\"****ACCURACY BY USING KN NEIGHBORS CLASSIFIER ALGORITHM****:\")\n",
        "print(\"ACCURACY = \",accuracy_score(y_test,prediction5))"
      ],
      "metadata": {
        "colab": {
          "base_uri": "https://localhost:8080/"
        },
        "id": "Lt-yWtZR2uu2",
        "outputId": "ab82d75c-847c-4cd2-bf12-667b46a19c5f"
      },
      "execution_count": null,
      "outputs": [
        {
          "output_type": "stream",
          "name": "stdout",
          "text": [
            "******DATA CLASSIFICATION******\n",
            "****ACCURACY BY USING KN NEIGHBORS CLASSIFIER ALGORITHM****:\n",
            "ACCURACY =  1.0\n"
          ]
        }
      ]
    },
    {
      "cell_type": "code",
      "source": [
        "from sklearn import svm\n",
        "sv=svm.SVC()\n",
        "sv.fit(x_train,y_train)\n",
        "prediction6=sv.predict(x_test)\n",
        "print(\"******DATA CLASSIFICATION******\")\n",
        "print(\"****ACCURACY BY USING SVM ALGORITHM****:\")\n",
        "print(\"ACCURACY = \",accuracy_score(y_test,prediction6))"
      ],
      "metadata": {
        "colab": {
          "base_uri": "https://localhost:8080/"
        },
        "id": "NMcEXKVN2usm",
        "outputId": "80113187-9ba5-461b-baad-ee0b00c1ec31"
      },
      "execution_count": null,
      "outputs": [
        {
          "output_type": "stream",
          "name": "stdout",
          "text": [
            "******DATA CLASSIFICATION******\n",
            "****ACCURACY BY USING SVM ALGORITHM****:\n",
            "ACCURACY =  0.9777777777777777\n"
          ]
        }
      ]
    }
  ]
}