{
  "nbformat": 4,
  "nbformat_minor": 0,
  "metadata": {
    "colab": {
      "provenance": [],
      "include_colab_link": true
    },
    "kernelspec": {
      "name": "python3",
      "display_name": "Python 3"
    },
    "language_info": {
      "name": "python"
    }
  },
  "cells": [
    {
      "cell_type": "markdown",
      "metadata": {
        "id": "view-in-github",
        "colab_type": "text"
      },
      "source": [
        "<a href=\"https://colab.research.google.com/github/EsakkiSubash14/codsoft/blob/main/codsoft_1_Titanic.ipynb\" target=\"_parent\"><img src=\"https://colab.research.google.com/assets/colab-badge.svg\" alt=\"Open In Colab\"/></a>"
      ]
    },
    {
      "cell_type": "code",
      "execution_count": null,
      "metadata": {
        "id": "GioBpBfFRsMa",
        "colab": {
          "base_uri": "https://localhost:8080/"
        },
        "outputId": "0401d43d-d0d8-453c-e41f-80f9108ccb2f"
      },
      "outputs": [
        {
          "output_type": "stream",
          "name": "stdout",
          "text": [
            "     PassengerId  Pclass                                          Name  \\\n",
            "0            892       3                              Kelly, Mr. James   \n",
            "1            893       3              Wilkes, Mrs. James (Ellen Needs)   \n",
            "2            894       2                     Myles, Mr. Thomas Francis   \n",
            "3            895       3                              Wirz, Mr. Albert   \n",
            "4            896       3  Hirvonen, Mrs. Alexander (Helga E Lindqvist)   \n",
            "..           ...     ...                                           ...   \n",
            "413         1305       3                            Spector, Mr. Woolf   \n",
            "414         1306       1                  Oliva y Ocana, Dona. Fermina   \n",
            "415         1307       3                  Saether, Mr. Simon Sivertsen   \n",
            "416         1308       3                           Ware, Mr. Frederick   \n",
            "417         1309       3                      Peter, Master. Michael J   \n",
            "\n",
            "        Sex   Age  SibSp  Parch              Ticket      Fare Cabin Embarked  \\\n",
            "0      male  34.5      0      0              330911    7.8292   NaN        Q   \n",
            "1    female  47.0      1      0              363272    7.0000   NaN        S   \n",
            "2      male  62.0      0      0              240276    9.6875   NaN        Q   \n",
            "3      male  27.0      0      0              315154    8.6625   NaN        S   \n",
            "4    female  22.0      1      1             3101298   12.2875   NaN        S   \n",
            "..      ...   ...    ...    ...                 ...       ...   ...      ...   \n",
            "413    male   NaN      0      0           A.5. 3236    8.0500   NaN        S   \n",
            "414  female  39.0      0      0            PC 17758  108.9000  C105        C   \n",
            "415    male  38.5      0      0  SOTON/O.Q. 3101262    7.2500   NaN        S   \n",
            "416    male   NaN      0      0              359309    8.0500   NaN        S   \n",
            "417    male   NaN      1      1                2668   22.3583   NaN        C   \n",
            "\n",
            "     Survived  \n",
            "0           0  \n",
            "1           1  \n",
            "2           0  \n",
            "3           0  \n",
            "4           1  \n",
            "..        ...  \n",
            "413         0  \n",
            "414         1  \n",
            "415         0  \n",
            "416         0  \n",
            "417         0  \n",
            "\n",
            "[418 rows x 12 columns]\n"
          ]
        }
      ],
      "source": [
        "import pandas as pd\n",
        "a=pd.read_csv(\"tested.csv\")\n",
        "print(a)"
      ]
    },
    {
      "cell_type": "code",
      "source": [
        "a.isna()\n"
      ],
      "metadata": {
        "id": "oFUEsGjeTaGa",
        "colab": {
          "base_uri": "https://localhost:8080/",
          "height": 424
        },
        "outputId": "9a06928b-1d63-482f-9ed0-6ab25e04239a"
      },
      "execution_count": null,
      "outputs": [
        {
          "output_type": "execute_result",
          "data": {
            "text/plain": [
              "     PassengerId  Pclass   Name    Sex    Age  SibSp  Parch  Ticket   Fare  \\\n",
              "0          False   False  False  False  False  False  False   False  False   \n",
              "1          False   False  False  False  False  False  False   False  False   \n",
              "2          False   False  False  False  False  False  False   False  False   \n",
              "3          False   False  False  False  False  False  False   False  False   \n",
              "4          False   False  False  False  False  False  False   False  False   \n",
              "..           ...     ...    ...    ...    ...    ...    ...     ...    ...   \n",
              "413        False   False  False  False   True  False  False   False  False   \n",
              "414        False   False  False  False  False  False  False   False  False   \n",
              "415        False   False  False  False  False  False  False   False  False   \n",
              "416        False   False  False  False   True  False  False   False  False   \n",
              "417        False   False  False  False   True  False  False   False  False   \n",
              "\n",
              "     Cabin  Embarked  Survived  \n",
              "0     True     False     False  \n",
              "1     True     False     False  \n",
              "2     True     False     False  \n",
              "3     True     False     False  \n",
              "4     True     False     False  \n",
              "..     ...       ...       ...  \n",
              "413   True     False     False  \n",
              "414  False     False     False  \n",
              "415   True     False     False  \n",
              "416   True     False     False  \n",
              "417   True     False     False  \n",
              "\n",
              "[418 rows x 12 columns]"
            ],
            "text/html": [
              "\n",
              "  <div id=\"df-5c6c77b5-849c-4d68-a860-7ce1d4c7a087\" class=\"colab-df-container\">\n",
              "    <div>\n",
              "<style scoped>\n",
              "    .dataframe tbody tr th:only-of-type {\n",
              "        vertical-align: middle;\n",
              "    }\n",
              "\n",
              "    .dataframe tbody tr th {\n",
              "        vertical-align: top;\n",
              "    }\n",
              "\n",
              "    .dataframe thead th {\n",
              "        text-align: right;\n",
              "    }\n",
              "</style>\n",
              "<table border=\"1\" class=\"dataframe\">\n",
              "  <thead>\n",
              "    <tr style=\"text-align: right;\">\n",
              "      <th></th>\n",
              "      <th>PassengerId</th>\n",
              "      <th>Pclass</th>\n",
              "      <th>Name</th>\n",
              "      <th>Sex</th>\n",
              "      <th>Age</th>\n",
              "      <th>SibSp</th>\n",
              "      <th>Parch</th>\n",
              "      <th>Ticket</th>\n",
              "      <th>Fare</th>\n",
              "      <th>Cabin</th>\n",
              "      <th>Embarked</th>\n",
              "      <th>Survived</th>\n",
              "    </tr>\n",
              "  </thead>\n",
              "  <tbody>\n",
              "    <tr>\n",
              "      <th>0</th>\n",
              "      <td>False</td>\n",
              "      <td>False</td>\n",
              "      <td>False</td>\n",
              "      <td>False</td>\n",
              "      <td>False</td>\n",
              "      <td>False</td>\n",
              "      <td>False</td>\n",
              "      <td>False</td>\n",
              "      <td>False</td>\n",
              "      <td>True</td>\n",
              "      <td>False</td>\n",
              "      <td>False</td>\n",
              "    </tr>\n",
              "    <tr>\n",
              "      <th>1</th>\n",
              "      <td>False</td>\n",
              "      <td>False</td>\n",
              "      <td>False</td>\n",
              "      <td>False</td>\n",
              "      <td>False</td>\n",
              "      <td>False</td>\n",
              "      <td>False</td>\n",
              "      <td>False</td>\n",
              "      <td>False</td>\n",
              "      <td>True</td>\n",
              "      <td>False</td>\n",
              "      <td>False</td>\n",
              "    </tr>\n",
              "    <tr>\n",
              "      <th>2</th>\n",
              "      <td>False</td>\n",
              "      <td>False</td>\n",
              "      <td>False</td>\n",
              "      <td>False</td>\n",
              "      <td>False</td>\n",
              "      <td>False</td>\n",
              "      <td>False</td>\n",
              "      <td>False</td>\n",
              "      <td>False</td>\n",
              "      <td>True</td>\n",
              "      <td>False</td>\n",
              "      <td>False</td>\n",
              "    </tr>\n",
              "    <tr>\n",
              "      <th>3</th>\n",
              "      <td>False</td>\n",
              "      <td>False</td>\n",
              "      <td>False</td>\n",
              "      <td>False</td>\n",
              "      <td>False</td>\n",
              "      <td>False</td>\n",
              "      <td>False</td>\n",
              "      <td>False</td>\n",
              "      <td>False</td>\n",
              "      <td>True</td>\n",
              "      <td>False</td>\n",
              "      <td>False</td>\n",
              "    </tr>\n",
              "    <tr>\n",
              "      <th>4</th>\n",
              "      <td>False</td>\n",
              "      <td>False</td>\n",
              "      <td>False</td>\n",
              "      <td>False</td>\n",
              "      <td>False</td>\n",
              "      <td>False</td>\n",
              "      <td>False</td>\n",
              "      <td>False</td>\n",
              "      <td>False</td>\n",
              "      <td>True</td>\n",
              "      <td>False</td>\n",
              "      <td>False</td>\n",
              "    </tr>\n",
              "    <tr>\n",
              "      <th>...</th>\n",
              "      <td>...</td>\n",
              "      <td>...</td>\n",
              "      <td>...</td>\n",
              "      <td>...</td>\n",
              "      <td>...</td>\n",
              "      <td>...</td>\n",
              "      <td>...</td>\n",
              "      <td>...</td>\n",
              "      <td>...</td>\n",
              "      <td>...</td>\n",
              "      <td>...</td>\n",
              "      <td>...</td>\n",
              "    </tr>\n",
              "    <tr>\n",
              "      <th>413</th>\n",
              "      <td>False</td>\n",
              "      <td>False</td>\n",
              "      <td>False</td>\n",
              "      <td>False</td>\n",
              "      <td>True</td>\n",
              "      <td>False</td>\n",
              "      <td>False</td>\n",
              "      <td>False</td>\n",
              "      <td>False</td>\n",
              "      <td>True</td>\n",
              "      <td>False</td>\n",
              "      <td>False</td>\n",
              "    </tr>\n",
              "    <tr>\n",
              "      <th>414</th>\n",
              "      <td>False</td>\n",
              "      <td>False</td>\n",
              "      <td>False</td>\n",
              "      <td>False</td>\n",
              "      <td>False</td>\n",
              "      <td>False</td>\n",
              "      <td>False</td>\n",
              "      <td>False</td>\n",
              "      <td>False</td>\n",
              "      <td>False</td>\n",
              "      <td>False</td>\n",
              "      <td>False</td>\n",
              "    </tr>\n",
              "    <tr>\n",
              "      <th>415</th>\n",
              "      <td>False</td>\n",
              "      <td>False</td>\n",
              "      <td>False</td>\n",
              "      <td>False</td>\n",
              "      <td>False</td>\n",
              "      <td>False</td>\n",
              "      <td>False</td>\n",
              "      <td>False</td>\n",
              "      <td>False</td>\n",
              "      <td>True</td>\n",
              "      <td>False</td>\n",
              "      <td>False</td>\n",
              "    </tr>\n",
              "    <tr>\n",
              "      <th>416</th>\n",
              "      <td>False</td>\n",
              "      <td>False</td>\n",
              "      <td>False</td>\n",
              "      <td>False</td>\n",
              "      <td>True</td>\n",
              "      <td>False</td>\n",
              "      <td>False</td>\n",
              "      <td>False</td>\n",
              "      <td>False</td>\n",
              "      <td>True</td>\n",
              "      <td>False</td>\n",
              "      <td>False</td>\n",
              "    </tr>\n",
              "    <tr>\n",
              "      <th>417</th>\n",
              "      <td>False</td>\n",
              "      <td>False</td>\n",
              "      <td>False</td>\n",
              "      <td>False</td>\n",
              "      <td>True</td>\n",
              "      <td>False</td>\n",
              "      <td>False</td>\n",
              "      <td>False</td>\n",
              "      <td>False</td>\n",
              "      <td>True</td>\n",
              "      <td>False</td>\n",
              "      <td>False</td>\n",
              "    </tr>\n",
              "  </tbody>\n",
              "</table>\n",
              "<p>418 rows × 12 columns</p>\n",
              "</div>\n",
              "    <div class=\"colab-df-buttons\">\n",
              "\n",
              "  <div class=\"colab-df-container\">\n",
              "    <button class=\"colab-df-convert\" onclick=\"convertToInteractive('df-5c6c77b5-849c-4d68-a860-7ce1d4c7a087')\"\n",
              "            title=\"Convert this dataframe to an interactive table.\"\n",
              "            style=\"display:none;\">\n",
              "\n",
              "  <svg xmlns=\"http://www.w3.org/2000/svg\" height=\"24px\" viewBox=\"0 -960 960 960\">\n",
              "    <path d=\"M120-120v-720h720v720H120Zm60-500h600v-160H180v160Zm220 220h160v-160H400v160Zm0 220h160v-160H400v160ZM180-400h160v-160H180v160Zm440 0h160v-160H620v160ZM180-180h160v-160H180v160Zm440 0h160v-160H620v160Z\"/>\n",
              "  </svg>\n",
              "    </button>\n",
              "\n",
              "  <style>\n",
              "    .colab-df-container {\n",
              "      display:flex;\n",
              "      gap: 12px;\n",
              "    }\n",
              "\n",
              "    .colab-df-convert {\n",
              "      background-color: #E8F0FE;\n",
              "      border: none;\n",
              "      border-radius: 50%;\n",
              "      cursor: pointer;\n",
              "      display: none;\n",
              "      fill: #1967D2;\n",
              "      height: 32px;\n",
              "      padding: 0 0 0 0;\n",
              "      width: 32px;\n",
              "    }\n",
              "\n",
              "    .colab-df-convert:hover {\n",
              "      background-color: #E2EBFA;\n",
              "      box-shadow: 0px 1px 2px rgba(60, 64, 67, 0.3), 0px 1px 3px 1px rgba(60, 64, 67, 0.15);\n",
              "      fill: #174EA6;\n",
              "    }\n",
              "\n",
              "    .colab-df-buttons div {\n",
              "      margin-bottom: 4px;\n",
              "    }\n",
              "\n",
              "    [theme=dark] .colab-df-convert {\n",
              "      background-color: #3B4455;\n",
              "      fill: #D2E3FC;\n",
              "    }\n",
              "\n",
              "    [theme=dark] .colab-df-convert:hover {\n",
              "      background-color: #434B5C;\n",
              "      box-shadow: 0px 1px 3px 1px rgba(0, 0, 0, 0.15);\n",
              "      filter: drop-shadow(0px 1px 2px rgba(0, 0, 0, 0.3));\n",
              "      fill: #FFFFFF;\n",
              "    }\n",
              "  </style>\n",
              "\n",
              "    <script>\n",
              "      const buttonEl =\n",
              "        document.querySelector('#df-5c6c77b5-849c-4d68-a860-7ce1d4c7a087 button.colab-df-convert');\n",
              "      buttonEl.style.display =\n",
              "        google.colab.kernel.accessAllowed ? 'block' : 'none';\n",
              "\n",
              "      async function convertToInteractive(key) {\n",
              "        const element = document.querySelector('#df-5c6c77b5-849c-4d68-a860-7ce1d4c7a087');\n",
              "        const dataTable =\n",
              "          await google.colab.kernel.invokeFunction('convertToInteractive',\n",
              "                                                    [key], {});\n",
              "        if (!dataTable) return;\n",
              "\n",
              "        const docLinkHtml = 'Like what you see? Visit the ' +\n",
              "          '<a target=\"_blank\" href=https://colab.research.google.com/notebooks/data_table.ipynb>data table notebook</a>'\n",
              "          + ' to learn more about interactive tables.';\n",
              "        element.innerHTML = '';\n",
              "        dataTable['output_type'] = 'display_data';\n",
              "        await google.colab.output.renderOutput(dataTable, element);\n",
              "        const docLink = document.createElement('div');\n",
              "        docLink.innerHTML = docLinkHtml;\n",
              "        element.appendChild(docLink);\n",
              "      }\n",
              "    </script>\n",
              "  </div>\n",
              "\n",
              "\n",
              "<div id=\"df-8f600e4f-5f97-4861-9d8b-62b7e8b1d2ca\">\n",
              "  <button class=\"colab-df-quickchart\" onclick=\"quickchart('df-8f600e4f-5f97-4861-9d8b-62b7e8b1d2ca')\"\n",
              "            title=\"Suggest charts.\"\n",
              "            style=\"display:none;\">\n",
              "\n",
              "<svg xmlns=\"http://www.w3.org/2000/svg\" height=\"24px\"viewBox=\"0 0 24 24\"\n",
              "     width=\"24px\">\n",
              "    <g>\n",
              "        <path d=\"M19 3H5c-1.1 0-2 .9-2 2v14c0 1.1.9 2 2 2h14c1.1 0 2-.9 2-2V5c0-1.1-.9-2-2-2zM9 17H7v-7h2v7zm4 0h-2V7h2v10zm4 0h-2v-4h2v4z\"/>\n",
              "    </g>\n",
              "</svg>\n",
              "  </button>\n",
              "\n",
              "<style>\n",
              "  .colab-df-quickchart {\n",
              "      --bg-color: #E8F0FE;\n",
              "      --fill-color: #1967D2;\n",
              "      --hover-bg-color: #E2EBFA;\n",
              "      --hover-fill-color: #174EA6;\n",
              "      --disabled-fill-color: #AAA;\n",
              "      --disabled-bg-color: #DDD;\n",
              "  }\n",
              "\n",
              "  [theme=dark] .colab-df-quickchart {\n",
              "      --bg-color: #3B4455;\n",
              "      --fill-color: #D2E3FC;\n",
              "      --hover-bg-color: #434B5C;\n",
              "      --hover-fill-color: #FFFFFF;\n",
              "      --disabled-bg-color: #3B4455;\n",
              "      --disabled-fill-color: #666;\n",
              "  }\n",
              "\n",
              "  .colab-df-quickchart {\n",
              "    background-color: var(--bg-color);\n",
              "    border: none;\n",
              "    border-radius: 50%;\n",
              "    cursor: pointer;\n",
              "    display: none;\n",
              "    fill: var(--fill-color);\n",
              "    height: 32px;\n",
              "    padding: 0;\n",
              "    width: 32px;\n",
              "  }\n",
              "\n",
              "  .colab-df-quickchart:hover {\n",
              "    background-color: var(--hover-bg-color);\n",
              "    box-shadow: 0 1px 2px rgba(60, 64, 67, 0.3), 0 1px 3px 1px rgba(60, 64, 67, 0.15);\n",
              "    fill: var(--button-hover-fill-color);\n",
              "  }\n",
              "\n",
              "  .colab-df-quickchart-complete:disabled,\n",
              "  .colab-df-quickchart-complete:disabled:hover {\n",
              "    background-color: var(--disabled-bg-color);\n",
              "    fill: var(--disabled-fill-color);\n",
              "    box-shadow: none;\n",
              "  }\n",
              "\n",
              "  .colab-df-spinner {\n",
              "    border: 2px solid var(--fill-color);\n",
              "    border-color: transparent;\n",
              "    border-bottom-color: var(--fill-color);\n",
              "    animation:\n",
              "      spin 1s steps(1) infinite;\n",
              "  }\n",
              "\n",
              "  @keyframes spin {\n",
              "    0% {\n",
              "      border-color: transparent;\n",
              "      border-bottom-color: var(--fill-color);\n",
              "      border-left-color: var(--fill-color);\n",
              "    }\n",
              "    20% {\n",
              "      border-color: transparent;\n",
              "      border-left-color: var(--fill-color);\n",
              "      border-top-color: var(--fill-color);\n",
              "    }\n",
              "    30% {\n",
              "      border-color: transparent;\n",
              "      border-left-color: var(--fill-color);\n",
              "      border-top-color: var(--fill-color);\n",
              "      border-right-color: var(--fill-color);\n",
              "    }\n",
              "    40% {\n",
              "      border-color: transparent;\n",
              "      border-right-color: var(--fill-color);\n",
              "      border-top-color: var(--fill-color);\n",
              "    }\n",
              "    60% {\n",
              "      border-color: transparent;\n",
              "      border-right-color: var(--fill-color);\n",
              "    }\n",
              "    80% {\n",
              "      border-color: transparent;\n",
              "      border-right-color: var(--fill-color);\n",
              "      border-bottom-color: var(--fill-color);\n",
              "    }\n",
              "    90% {\n",
              "      border-color: transparent;\n",
              "      border-bottom-color: var(--fill-color);\n",
              "    }\n",
              "  }\n",
              "</style>\n",
              "\n",
              "  <script>\n",
              "    async function quickchart(key) {\n",
              "      const quickchartButtonEl =\n",
              "        document.querySelector('#' + key + ' button');\n",
              "      quickchartButtonEl.disabled = true;  // To prevent multiple clicks.\n",
              "      quickchartButtonEl.classList.add('colab-df-spinner');\n",
              "      try {\n",
              "        const charts = await google.colab.kernel.invokeFunction(\n",
              "            'suggestCharts', [key], {});\n",
              "      } catch (error) {\n",
              "        console.error('Error during call to suggestCharts:', error);\n",
              "      }\n",
              "      quickchartButtonEl.classList.remove('colab-df-spinner');\n",
              "      quickchartButtonEl.classList.add('colab-df-quickchart-complete');\n",
              "    }\n",
              "    (() => {\n",
              "      let quickchartButtonEl =\n",
              "        document.querySelector('#df-8f600e4f-5f97-4861-9d8b-62b7e8b1d2ca button');\n",
              "      quickchartButtonEl.style.display =\n",
              "        google.colab.kernel.accessAllowed ? 'block' : 'none';\n",
              "    })();\n",
              "  </script>\n",
              "</div>\n",
              "    </div>\n",
              "  </div>\n"
            ]
          },
          "metadata": {},
          "execution_count": 7
        }
      ]
    },
    {
      "cell_type": "code",
      "source": [
        "a[\"Cabin\"] = a[\"Cabin\"].astype(str)\n"
      ],
      "metadata": {
        "id": "HwksusArfhoc"
      },
      "execution_count": null,
      "outputs": []
    },
    {
      "cell_type": "code",
      "source": [
        "a[\"Age\"]=a[\"Age\"].fillna(0)\n",
        "a[\"SibSp\"]=a[\"SibSp\"].fillna(0)\n",
        "a[\"Parch\"]=a[\"Parch\"].fillna(0)\n",
        "a[\"Ticket\"]=a[\"Ticket\"].fillna(0)\n",
        "a[\"Fare\"]=a[\"Fare\"].fillna(0)\n",
        "a[\"Cabin\"]=a[\"Cabin\"].fillna(0)\n",
        "print(a)"
      ],
      "metadata": {
        "id": "JBap-TbHTaLI",
        "colab": {
          "base_uri": "https://localhost:8080/"
        },
        "outputId": "99d0662b-b1c8-4aee-9911-24c5d1e84414"
      },
      "execution_count": null,
      "outputs": [
        {
          "output_type": "stream",
          "name": "stdout",
          "text": [
            "     PassengerId  Pclass                                          Name  \\\n",
            "0            892       3                              Kelly, Mr. James   \n",
            "1            893       3              Wilkes, Mrs. James (Ellen Needs)   \n",
            "2            894       2                     Myles, Mr. Thomas Francis   \n",
            "3            895       3                              Wirz, Mr. Albert   \n",
            "4            896       3  Hirvonen, Mrs. Alexander (Helga E Lindqvist)   \n",
            "..           ...     ...                                           ...   \n",
            "413         1305       3                            Spector, Mr. Woolf   \n",
            "414         1306       1                  Oliva y Ocana, Dona. Fermina   \n",
            "415         1307       3                  Saether, Mr. Simon Sivertsen   \n",
            "416         1308       3                           Ware, Mr. Frederick   \n",
            "417         1309       3                      Peter, Master. Michael J   \n",
            "\n",
            "        Sex   Age  SibSp  Parch              Ticket      Fare Cabin Embarked  \\\n",
            "0      male  34.5      0      0              330911    7.8292   nan        Q   \n",
            "1    female  47.0      1      0              363272    7.0000   nan        S   \n",
            "2      male  62.0      0      0              240276    9.6875   nan        Q   \n",
            "3      male  27.0      0      0              315154    8.6625   nan        S   \n",
            "4    female  22.0      1      1             3101298   12.2875   nan        S   \n",
            "..      ...   ...    ...    ...                 ...       ...   ...      ...   \n",
            "413    male   0.0      0      0           A.5. 3236    8.0500   nan        S   \n",
            "414  female  39.0      0      0            PC 17758  108.9000  C105        C   \n",
            "415    male  38.5      0      0  SOTON/O.Q. 3101262    7.2500   nan        S   \n",
            "416    male   0.0      0      0              359309    8.0500   nan        S   \n",
            "417    male   0.0      1      1                2668   22.3583   nan        C   \n",
            "\n",
            "     Survived  \n",
            "0           0  \n",
            "1           1  \n",
            "2           0  \n",
            "3           0  \n",
            "4           1  \n",
            "..        ...  \n",
            "413         0  \n",
            "414         1  \n",
            "415         0  \n",
            "416         0  \n",
            "417         0  \n",
            "\n",
            "[418 rows x 12 columns]\n"
          ]
        }
      ]
    },
    {
      "cell_type": "code",
      "source": [
        "from sklearn import preprocessing\n",
        "s=preprocessing.LabelEncoder()\n",
        "a[\"Name\"]=s.fit_transform(a[\"Name\"])\n",
        "a[\"Sex\"]=s.fit_transform(a[\"Sex\"])\n",
        "a[\"Ticket\"]=s.fit_transform(a[\"Ticket\"])\n",
        "a[\"Cabin\"]=s.fit_transform(a[\"Cabin\"])\n",
        "a[\"Embarked\"]=s.fit_transform(a[\"Embarked\"])\n",
        "\n"
      ],
      "metadata": {
        "id": "4DxKprelTaOB"
      },
      "execution_count": null,
      "outputs": []
    },
    {
      "cell_type": "code",
      "source": [
        "x=a.iloc[:,:-1].values\n",
        "print()\n",
        "print(\"*****SEPARATING THE ROWS AND COLUMNS*****\")\n",
        "print()\n",
        "print(\"*****FEATURES*****:\")\n",
        "print()\n",
        "print(x)\n",
        "print()\n",
        "print(\"*****TARGET VALUES*****:\")\n",
        "print()\n",
        "y=a[\"Survived\"]\n",
        "print(y)"
      ],
      "metadata": {
        "colab": {
          "base_uri": "https://localhost:8080/"
        },
        "id": "1e5WkcDsTaQo",
        "outputId": "d42f61c2-0870-454b-ac17-44b312a0ee14"
      },
      "execution_count": null,
      "outputs": [
        {
          "output_type": "stream",
          "name": "stdout",
          "text": [
            "\n",
            "*****SEPARATING THE ROWS AND COLUMNS*****\n",
            "\n",
            "*****FEATURES*****:\n",
            "\n",
            "[[8.92000e+02 3.00000e+00 2.06000e+02 ... 7.82920e+00 7.60000e+01\n",
            "  1.00000e+00]\n",
            " [8.93000e+02 3.00000e+00 4.03000e+02 ... 7.00000e+00 7.60000e+01\n",
            "  2.00000e+00]\n",
            " [8.94000e+02 2.00000e+00 2.69000e+02 ... 9.68750e+00 7.60000e+01\n",
            "  1.00000e+00]\n",
            " ...\n",
            " [1.30700e+03 3.00000e+00 3.32000e+02 ... 7.25000e+00 7.60000e+01\n",
            "  2.00000e+00]\n",
            " [1.30800e+03 3.00000e+00 3.84000e+02 ... 8.05000e+00 7.60000e+01\n",
            "  2.00000e+00]\n",
            " [1.30900e+03 3.00000e+00 3.02000e+02 ... 2.23583e+01 7.60000e+01\n",
            "  0.00000e+00]]\n",
            "\n",
            "*****TARGET VALUES*****:\n",
            "\n",
            "0      0\n",
            "1      1\n",
            "2      0\n",
            "3      0\n",
            "4      1\n",
            "      ..\n",
            "413    0\n",
            "414    1\n",
            "415    0\n",
            "416    0\n",
            "417    0\n",
            "Name: Survived, Length: 418, dtype: int64\n"
          ]
        }
      ]
    },
    {
      "cell_type": "code",
      "source": [
        "from sklearn.model_selection import train_test_split\n",
        "x_train, x_test, y_train, y_test= train_test_split(x,y ,test_size=0.20, shuffle=True)\n",
        "print()\n",
        "print(\"*****DATA SPLITTING*****:\")\n",
        "print()\n",
        "print(\"*****TRAINING VALUES IN X TRAIN*****:\")\n",
        "print()\n",
        "print(x_train)\n",
        "print()\n",
        "print(\"*****TEST VALUES IN X TEST*****:\")\n",
        "print()\n",
        "print(x_test)\n",
        "print()\n",
        "print(\"*****TRAINING VALUES IN Y TRAIN*****:\")\n",
        "print()\n",
        "print(y_train)\n",
        "print()\n",
        "print(\"*****TEST VALUES IN Y TEST*****:\")\n",
        "print()\n",
        "print(y_test)"
      ],
      "metadata": {
        "colab": {
          "base_uri": "https://localhost:8080/"
        },
        "id": "fxZRL3qQTaTJ",
        "outputId": "71999a8b-5ec3-45e7-fbad-a78408dcc117"
      },
      "execution_count": null,
      "outputs": [
        {
          "output_type": "stream",
          "name": "stdout",
          "text": [
            "\n",
            "*****DATA SPLITTING*****:\n",
            "\n",
            "*****TRAINING VALUES IN X TRAIN*****:\n",
            "\n",
            "[[9.79000e+02 3.00000e+00 2.50000e+01 ... 8.05000e+00 7.60000e+01\n",
            "  2.00000e+00]\n",
            " [1.06100e+03 3.00000e+00 1.71000e+02 ... 8.96250e+00 7.60000e+01\n",
            "  2.00000e+00]\n",
            " [1.19000e+03 1.00000e+00 2.35000e+02 ... 4.55000e+01 7.60000e+01\n",
            "  2.00000e+00]\n",
            " ...\n",
            " [8.96000e+02 3.00000e+00 1.78000e+02 ... 1.22875e+01 7.60000e+01\n",
            "  2.00000e+00]\n",
            " [9.46000e+02 2.00000e+00 2.47000e+02 ... 1.55792e+01 7.60000e+01\n",
            "  0.00000e+00]\n",
            " [1.21900e+03 1.00000e+00 3.22000e+02 ... 7.92000e+01 7.60000e+01\n",
            "  0.00000e+00]]\n",
            "\n",
            "*****TEST VALUES IN X TEST*****:\n",
            "\n",
            "[[9.060000e+02 1.000000e+00 6.900000e+01 0.000000e+00 4.700000e+01\n",
            "  1.000000e+00 0.000000e+00 3.620000e+02 6.117500e+01 6.000000e+01\n",
            "  2.000000e+00]\n",
            " [1.231000e+03 3.000000e+00 3.300000e+01 1.000000e+00 0.000000e+00\n",
            "  0.000000e+00 0.000000e+00 9.100000e+01 7.229200e+00 7.600000e+01\n",
            "  0.000000e+00]\n",
            " [9.720000e+02 3.000000e+00 4.000000e+01 1.000000e+00 6.000000e+00\n",
            "  1.000000e+00 1.000000e+00 1.110000e+02 1.524580e+01 7.600000e+01\n",
            "  0.000000e+00]\n",
            " [1.285000e+03 2.000000e+00 1.550000e+02 1.000000e+00 4.700000e+01\n",
            "  0.000000e+00 0.000000e+00 2.820000e+02 1.050000e+01 7.600000e+01\n",
            "  2.000000e+00]\n",
            " [1.241000e+03 2.000000e+00 3.830000e+02 0.000000e+00 3.100000e+01\n",
            "  0.000000e+00 0.000000e+00 2.990000e+02 2.100000e+01 7.600000e+01\n",
            "  2.000000e+00]\n",
            " [9.810000e+02 2.000000e+00 3.920000e+02 1.000000e+00 2.000000e+00\n",
            "  1.000000e+00 1.000000e+00 1.300000e+02 2.300000e+01 7.600000e+01\n",
            "  2.000000e+00]\n",
            " [1.032000e+03 3.000000e+00 1.590000e+02 0.000000e+00 1.000000e+01\n",
            "  5.000000e+00 2.000000e+00 2.940000e+02 4.690000e+01 7.600000e+01\n",
            "  2.000000e+00]\n",
            " [1.046000e+03 3.000000e+00 1.700000e+01 1.000000e+00 1.300000e+01\n",
            "  4.000000e+00 2.000000e+00 1.810000e+02 3.138750e+01 7.600000e+01\n",
            "  2.000000e+00]\n",
            " [1.019000e+03 3.000000e+00 2.540000e+02 0.000000e+00 0.000000e+00\n",
            "  2.000000e+00 0.000000e+00 2.310000e+02 2.325000e+01 7.600000e+01\n",
            "  1.000000e+00]\n",
            " [1.283000e+03 1.000000e+00 2.310000e+02 0.000000e+00 5.100000e+01\n",
            "  0.000000e+00 1.000000e+00 3.110000e+02 3.940000e+01 5.300000e+01\n",
            "  2.000000e+00]\n",
            " [9.770000e+02 3.000000e+00 2.090000e+02 1.000000e+00 0.000000e+00\n",
            "  1.000000e+00 0.000000e+00 1.020000e+02 1.445420e+01 7.600000e+01\n",
            "  0.000000e+00]\n",
            " [8.990000e+02 2.000000e+00 5.700000e+01 1.000000e+00 2.600000e+01\n",
            "  1.000000e+00 1.000000e+00 8.400000e+01 2.900000e+01 7.600000e+01\n",
            "  2.000000e+00]\n",
            " [9.570000e+02 2.000000e+00 8.900000e+01 0.000000e+00 0.000000e+00\n",
            "  0.000000e+00 0.000000e+00 3.000000e+02 2.100000e+01 7.600000e+01\n",
            "  2.000000e+00]\n",
            " [9.880000e+02 1.000000e+00 6.800000e+01 0.000000e+00 7.600000e+01\n",
            "  1.000000e+00 0.000000e+00 4.600000e+01 7.885000e+01 3.300000e+01\n",
            "  2.000000e+00]\n",
            " [1.117000e+03 3.000000e+00 2.660000e+02 0.000000e+00 0.000000e+00\n",
            "  0.000000e+00 2.000000e+00 1.030000e+02 1.524580e+01 7.600000e+01\n",
            "  0.000000e+00]\n",
            " [1.240000e+03 2.000000e+00 1.570000e+02 1.000000e+00 2.400000e+01\n",
            "  0.000000e+00 0.000000e+00 8.200000e+01 1.350000e+01 7.600000e+01\n",
            "  2.000000e+00]\n",
            " [1.132000e+03 1.000000e+00 2.290000e+02 0.000000e+00 5.500000e+01\n",
            "  0.000000e+00 0.000000e+00 6.000000e+00 2.772080e+01 7.600000e+01\n",
            "  0.000000e+00]\n",
            " [1.007000e+03 3.000000e+00 7.500000e+01 1.000000e+00 1.800000e+01\n",
            "  1.000000e+00 0.000000e+00 1.130000e+02 1.445420e+01 7.600000e+01\n",
            "  0.000000e+00]\n",
            " [1.188000e+03 2.000000e+00 2.230000e+02 0.000000e+00 1.000000e+00\n",
            "  1.000000e+00 2.000000e+00 3.450000e+02 4.157920e+01 7.600000e+01\n",
            "  0.000000e+00]\n",
            " [1.214000e+03 2.000000e+00 2.740000e+02 1.000000e+00 2.600000e+01\n",
            "  0.000000e+00 0.000000e+00 8.000000e+01 1.300000e+01 7.200000e+01\n",
            "  2.000000e+00]\n",
            " [1.180000e+03 3.000000e+00 2.480000e+02 1.000000e+00 0.000000e+00\n",
            "  0.000000e+00 0.000000e+00 9.800000e+01 7.229200e+00 6.900000e+01\n",
            "  0.000000e+00]\n",
            " [1.034000e+03 1.000000e+00 3.280000e+02 1.000000e+00 6.100000e+01\n",
            "  1.000000e+00 3.000000e+00 3.190000e+02 2.623750e+02 1.500000e+01\n",
            "  0.000000e+00]\n",
            " [1.144000e+03 1.000000e+00 7.600000e+01 1.000000e+00 2.700000e+01\n",
            "  1.000000e+00 0.000000e+00 3.500000e+01 1.367792e+02 4.500000e+01\n",
            "  0.000000e+00]\n",
            " [1.120000e+03 3.000000e+00 1.340000e+02 1.000000e+00 4.050000e+01\n",
            "  0.000000e+00 0.000000e+00 2.930000e+02 1.510000e+01 7.600000e+01\n",
            "  2.000000e+00]\n",
            " [9.680000e+02 3.000000e+00 2.610000e+02 1.000000e+00 0.000000e+00\n",
            "  0.000000e+00 0.000000e+00 2.190000e+02 8.050000e+00 7.600000e+01\n",
            "  2.000000e+00]\n",
            " [1.185000e+03 1.000000e+00 1.170000e+02 1.000000e+00 5.300000e+01\n",
            "  1.000000e+00 1.000000e+00 1.620000e+02 8.185830e+01 4.000000e+00\n",
            "  2.000000e+00]\n",
            " [1.070000e+03 2.000000e+00 3.100000e+01 0.000000e+00 3.600000e+01\n",
            "  0.000000e+00 3.000000e+00 5.800000e+01 3.900000e+01 7.400000e+01\n",
            "  2.000000e+00]\n",
            " [1.256000e+03 1.000000e+00 1.670000e+02 0.000000e+00 2.500000e+01\n",
            "  1.000000e+00 0.000000e+00 2.500000e+01 5.544170e+01 6.500000e+01\n",
            "  0.000000e+00]\n",
            " [9.300000e+02 3.000000e+00 3.420000e+02 1.000000e+00 2.500000e+01\n",
            "  0.000000e+00 0.000000e+00 1.720000e+02 9.500000e+00 7.600000e+01\n",
            "  2.000000e+00]\n",
            " [1.193000e+03 2.000000e+00 2.450000e+02 1.000000e+00 0.000000e+00\n",
            "  0.000000e+00 0.000000e+00 6.900000e+01 1.504580e+01 4.700000e+01\n",
            "  0.000000e+00]\n",
            " [1.015000e+03 3.000000e+00 6.500000e+01 1.000000e+00 2.800000e+01\n",
            "  0.000000e+00 0.000000e+00 2.550000e+02 7.250000e+00 7.600000e+01\n",
            "  2.000000e+00]\n",
            " [1.237000e+03 3.000000e+00 1.000000e+00 0.000000e+00 1.600000e+01\n",
            "  0.000000e+00 0.000000e+00 1.920000e+02 7.650000e+00 7.600000e+01\n",
            "  2.000000e+00]\n",
            " [1.276000e+03 2.000000e+00 3.970000e+02 1.000000e+00 0.000000e+00\n",
            "  0.000000e+00 0.000000e+00 3.410000e+02 1.287500e+01 7.600000e+01\n",
            "  2.000000e+00]\n",
            " [9.390000e+02 3.000000e+00 3.450000e+02 1.000000e+00 0.000000e+00\n",
            "  0.000000e+00 0.000000e+00 2.430000e+02 7.750000e+00 7.600000e+01\n",
            "  1.000000e+00]\n",
            " [1.000000e+03 3.000000e+00 4.050000e+02 1.000000e+00 0.000000e+00\n",
            "  0.000000e+00 0.000000e+00 1.630000e+02 8.712500e+00 7.600000e+01\n",
            "  2.000000e+00]\n",
            " [1.058000e+03 1.000000e+00 4.600000e+01 1.000000e+00 4.800000e+01\n",
            "  0.000000e+00 0.000000e+00 3.100000e+02 5.049580e+01 6.000000e+00\n",
            "  0.000000e+00]\n",
            " [1.142000e+03 2.000000e+00 3.950000e+02 0.000000e+00 9.200000e-01\n",
            "  1.000000e+00 2.000000e+00 2.890000e+02 2.775000e+01 7.600000e+01\n",
            "  2.000000e+00]\n",
            " [1.273000e+03 3.000000e+00 1.400000e+02 1.000000e+00 2.600000e+01\n",
            "  0.000000e+00 0.000000e+00 1.510000e+02 7.879200e+00 7.600000e+01\n",
            "  1.000000e+00]\n",
            " [1.104000e+03 2.000000e+00 1.070000e+02 1.000000e+00 1.700000e+01\n",
            "  0.000000e+00 0.000000e+00 3.330000e+02 7.350000e+01 7.600000e+01\n",
            "  2.000000e+00]\n",
            " [1.095000e+03 2.000000e+00 3.100000e+02 0.000000e+00 8.000000e+00\n",
            "  1.000000e+00 1.000000e+00 9.300000e+01 2.600000e+01 7.600000e+01\n",
            "  2.000000e+00]\n",
            " [1.073000e+03 1.000000e+00 8.100000e+01 1.000000e+00 3.700000e+01\n",
            "  1.000000e+00 1.000000e+00 3.220000e+02 8.315830e+01 6.600000e+01\n",
            "  0.000000e+00]\n",
            " [1.141000e+03 3.000000e+00 2.100000e+02 0.000000e+00 0.000000e+00\n",
            "  1.000000e+00 0.000000e+00 1.020000e+02 1.445420e+01 7.600000e+01\n",
            "  0.000000e+00]\n",
            " [1.172000e+03 3.000000e+00 2.870000e+02 0.000000e+00 2.300000e+01\n",
            "  0.000000e+00 0.000000e+00 1.400000e+02 8.662500e+00 7.600000e+01\n",
            "  2.000000e+00]\n",
            " [9.180000e+02 1.000000e+00 2.880000e+02 0.000000e+00 2.200000e+01\n",
            "  0.000000e+00 1.000000e+00 1.400000e+01 6.197920e+01 1.000000e+01\n",
            "  0.000000e+00]\n",
            " [1.052000e+03 3.000000e+00 3.500000e+02 0.000000e+00 0.000000e+00\n",
            "  0.000000e+00 0.000000e+00 1.610000e+02 7.733300e+00 7.600000e+01\n",
            "  1.000000e+00]\n",
            " [1.105000e+03 2.000000e+00 1.850000e+02 0.000000e+00 6.000000e+01\n",
            "  1.000000e+00 0.000000e+00 7.400000e+01 2.600000e+01 7.600000e+01\n",
            "  2.000000e+00]\n",
            " [1.252000e+03 3.000000e+00 3.330000e+02 1.000000e+00 1.450000e+01\n",
            "  8.000000e+00 2.000000e+00 2.960000e+02 6.955000e+01 7.600000e+01\n",
            "  2.000000e+00]\n",
            " [1.022000e+03 3.000000e+00 3.570000e+02 1.000000e+00 3.200000e+01\n",
            "  0.000000e+00 0.000000e+00 3.570000e+02 8.050000e+00 7.600000e+01\n",
            "  2.000000e+00]\n",
            " [9.050000e+02 2.000000e+00 1.840000e+02 1.000000e+00 6.300000e+01\n",
            "  1.000000e+00 0.000000e+00 7.400000e+01 2.600000e+01 7.600000e+01\n",
            "  2.000000e+00]\n",
            " [1.300000e+03 3.000000e+00 3.160000e+02 0.000000e+00 0.000000e+00\n",
            "  0.000000e+00 0.000000e+00 1.600000e+02 7.720800e+00 7.600000e+01\n",
            "  1.000000e+00]\n",
            " [1.042000e+03 1.000000e+00 1.300000e+02 0.000000e+00 2.300000e+01\n",
            "  0.000000e+00 1.000000e+00 2.600000e+01 8.315830e+01 3.600000e+01\n",
            "  0.000000e+00]\n",
            " [1.013000e+03 3.000000e+00 2.110000e+02 1.000000e+00 0.000000e+00\n",
            "  1.000000e+00 0.000000e+00 2.320000e+02 7.750000e+00 7.600000e+01\n",
            "  1.000000e+00]\n",
            " [1.247000e+03 1.000000e+00 1.980000e+02 1.000000e+00 5.000000e+01\n",
            "  0.000000e+00 0.000000e+00 1.000000e+01 2.600000e+01 6.700000e+01\n",
            "  2.000000e+00]\n",
            " [1.071000e+03 1.000000e+00 8.200000e+01 0.000000e+00 6.400000e+01\n",
            "  0.000000e+00 2.000000e+00 3.220000e+02 8.315830e+01 6.300000e+01\n",
            "  0.000000e+00]\n",
            " [9.740000e+02 1.000000e+00 6.600000e+01 1.000000e+00 4.900000e+01\n",
            "  0.000000e+00 0.000000e+00 4.700000e+01 2.600000e+01 7.600000e+01\n",
            "  2.000000e+00]\n",
            " [9.240000e+02 3.000000e+00 1.090000e+02 0.000000e+00 3.300000e+01\n",
            "  1.000000e+00 2.000000e+00 2.800000e+02 2.057500e+01 7.600000e+01\n",
            "  2.000000e+00]\n",
            " [1.036000e+03 1.000000e+00 2.270000e+02 1.000000e+00 4.200000e+01\n",
            "  0.000000e+00 0.000000e+00 4.300000e+01 2.655000e+01 7.600000e+01\n",
            "  2.000000e+00]\n",
            " [1.140000e+03 2.000000e+00 1.810000e+02 0.000000e+00 2.900000e+01\n",
            "  1.000000e+00 0.000000e+00 1.070000e+02 2.600000e+01 7.600000e+01\n",
            "  2.000000e+00]\n",
            " [1.086000e+03 2.000000e+00 1.230000e+02 1.000000e+00 8.000000e+00\n",
            "  0.000000e+00 2.000000e+00 1.250000e+02 3.250000e+01 7.600000e+01\n",
            "  2.000000e+00]\n",
            " [1.131000e+03 1.000000e+00 1.200000e+02 0.000000e+00 4.800000e+01\n",
            "  1.000000e+00 0.000000e+00 3.270000e+02 1.064250e+02 4.400000e+01\n",
            "  0.000000e+00]\n",
            " [1.129000e+03 3.000000e+00 2.400000e+01 1.000000e+00 2.000000e+01\n",
            "  0.000000e+00 0.000000e+00 1.120000e+02 7.225000e+00 7.600000e+01\n",
            "  0.000000e+00]\n",
            " [1.261000e+03 2.000000e+00 2.910000e+02 1.000000e+00 2.900000e+01\n",
            "  0.000000e+00 0.000000e+00 3.390000e+02 1.385830e+01 7.600000e+01\n",
            "  0.000000e+00]\n",
            " [1.242000e+03 1.000000e+00 1.620000e+02 0.000000e+00 4.500000e+01\n",
            "  0.000000e+00 1.000000e+00 3.250000e+02 6.335830e+01 4.800000e+01\n",
            "  0.000000e+00]\n",
            " [1.014000e+03 1.000000e+00 3.430000e+02 0.000000e+00 3.500000e+01\n",
            "  1.000000e+00 0.000000e+00 3.400000e+01 5.775000e+01 2.900000e+01\n",
            "  0.000000e+00]\n",
            " [1.158000e+03 1.000000e+00 7.300000e+01 1.000000e+00 0.000000e+00\n",
            "  0.000000e+00 0.000000e+00 4.000000e+00 0.000000e+00 7.600000e+01\n",
            "  2.000000e+00]\n",
            " [1.277000e+03 2.000000e+00 1.730000e+02 0.000000e+00 2.400000e+01\n",
            "  1.000000e+00 2.000000e+00 5.500000e+01 6.500000e+01 7.600000e+01\n",
            "  2.000000e+00]\n",
            " [1.189000e+03 3.000000e+00 3.400000e+02 1.000000e+00 0.000000e+00\n",
            "  2.000000e+00 0.000000e+00 1.040000e+02 2.167920e+01 7.600000e+01\n",
            "  0.000000e+00]\n",
            " [1.203000e+03 3.000000e+00 3.800000e+02 1.000000e+00 2.200000e+01\n",
            "  0.000000e+00 0.000000e+00 1.010000e+02 7.225000e+00 7.600000e+01\n",
            "  0.000000e+00]\n",
            " [1.248000e+03 1.000000e+00 4.900000e+01 0.000000e+00 5.900000e+01\n",
            "  2.000000e+00 0.000000e+00 2.700000e+01 5.147920e+01 2.100000e+01\n",
            "  2.000000e+00]\n",
            " [1.238000e+03 2.000000e+00 3.900000e+01 1.000000e+00 2.600000e+01\n",
            "  0.000000e+00 0.000000e+00 6.700000e+01 1.300000e+01 7.600000e+01\n",
            "  2.000000e+00]\n",
            " [9.320000e+02 3.000000e+00 2.020000e+02 1.000000e+00 3.900000e+01\n",
            "  0.000000e+00 1.000000e+00 2.040000e+02 1.341670e+01 7.600000e+01\n",
            "  0.000000e+00]\n",
            " [1.089000e+03 3.000000e+00 2.770000e+02 0.000000e+00 1.800000e+01\n",
            "  0.000000e+00 0.000000e+00 1.770000e+02 7.775000e+00 7.600000e+01\n",
            "  2.000000e+00]\n",
            " [1.060000e+03 1.000000e+00 6.700000e+01 0.000000e+00 0.000000e+00\n",
            "  0.000000e+00 0.000000e+00 4.500000e+01 2.772080e+01 7.600000e+01\n",
            "  0.000000e+00]\n",
            " [1.173000e+03 3.000000e+00 2.950000e+02 1.000000e+00 7.500000e-01\n",
            "  1.000000e+00 1.000000e+00 3.510000e+02 1.377500e+01 7.600000e+01\n",
            "  2.000000e+00]\n",
            " [9.470000e+02 3.000000e+00 3.140000e+02 1.000000e+00 1.000000e+01\n",
            "  4.000000e+00 1.000000e+00 2.490000e+02 2.912500e+01 7.600000e+01\n",
            "  1.000000e+00]\n",
            " [1.226000e+03 3.000000e+00 8.700000e+01 1.000000e+00 2.700000e+01\n",
            "  0.000000e+00 0.000000e+00 1.970000e+02 7.895800e+00 7.600000e+01\n",
            "  2.000000e+00]\n",
            " [9.250000e+02 3.000000e+00 1.950000e+02 0.000000e+00 0.000000e+00\n",
            "  1.000000e+00 2.000000e+00 3.600000e+02 2.345000e+01 7.600000e+01\n",
            "  2.000000e+00]\n",
            " [1.289000e+03 1.000000e+00 1.500000e+02 0.000000e+00 4.800000e+01\n",
            "  1.000000e+00 1.000000e+00 3.600000e+01 7.920000e+01 1.100000e+01\n",
            "  0.000000e+00]\n",
            " [1.221000e+03 2.000000e+00 1.320000e+02 1.000000e+00 2.100000e+01\n",
            "  0.000000e+00 0.000000e+00 6.300000e+01 1.300000e+01 7.600000e+01\n",
            "  2.000000e+00]\n",
            " [1.211000e+03 2.000000e+00 1.910000e+02 1.000000e+00 2.200000e+01\n",
            "  2.000000e+00 0.000000e+00 2.830000e+02 3.150000e+01 7.600000e+01\n",
            "  2.000000e+00]\n",
            " [1.163000e+03 3.000000e+00 1.460000e+02 1.000000e+00 0.000000e+00\n",
            "  0.000000e+00 0.000000e+00 2.350000e+02 7.750000e+00 7.600000e+01\n",
            "  1.000000e+00]\n",
            " [9.380000e+02 1.000000e+00 7.200000e+01 1.000000e+00 4.500000e+01\n",
            "  0.000000e+00 0.000000e+00 3.120000e+02 2.970000e+01 5.000000e+00\n",
            "  0.000000e+00]\n",
            " [1.075000e+03 3.000000e+00 2.220000e+02 1.000000e+00 0.000000e+00\n",
            "  0.000000e+00 0.000000e+00 2.630000e+02 7.750000e+00 7.600000e+01\n",
            "  1.000000e+00]\n",
            " [1.235000e+03 1.000000e+00 6.100000e+01 0.000000e+00 5.800000e+01\n",
            "  0.000000e+00 1.000000e+00 3.210000e+02 5.123292e+02 1.300000e+01\n",
            "  0.000000e+00]]\n",
            "\n",
            "*****TRAINING VALUES IN Y TRAIN*****:\n",
            "\n",
            "87     1\n",
            "169    1\n",
            "298    0\n",
            "395    1\n",
            "230    0\n",
            "      ..\n",
            "12     1\n",
            "255    0\n",
            "4      1\n",
            "54     0\n",
            "327    0\n",
            "Name: Survived, Length: 334, dtype: int64\n",
            "\n",
            "*****TEST VALUES IN Y TEST*****:\n",
            "\n",
            "14     1\n",
            "339    0\n",
            "80     0\n",
            "393    0\n",
            "349    1\n",
            "      ..\n",
            "319    0\n",
            "271    0\n",
            "46     0\n",
            "183    0\n",
            "343    1\n",
            "Name: Survived, Length: 84, dtype: int64\n"
          ]
        }
      ]
    },
    {
      "cell_type": "code",
      "source": [
        "from sklearn.linear_model import LogisticRegression\n",
        "from sklearn.metrics import accuracy_score\n",
        "l=LogisticRegression()\n",
        "l.fit(x_train,y_train)\n",
        "prediction1=l.predict(x_test)\n",
        "print()\n",
        "print(\"******DATA CLASSIFICATION******\")\n",
        "print()\n",
        "print(\"****ACCURACY BY USING LOGISTIC REGRESSION ALGORITHM****:\")\n",
        "print()\n",
        "print(\"ACCURACY =\",accuracy_score(y_test,prediction1))"
      ],
      "metadata": {
        "colab": {
          "base_uri": "https://localhost:8080/"
        },
        "id": "TwHofwaZcFFd",
        "outputId": "0233d981-a351-4349-e101-f9c0d8e30919"
      },
      "execution_count": null,
      "outputs": [
        {
          "output_type": "stream",
          "name": "stdout",
          "text": [
            "\n",
            "******DATA CLASSIFICATION******\n",
            "\n",
            "****ACCURACY BY USING LOGISTIC REGRESSION ALGORITHM****:\n",
            "\n",
            "ACCURACY = 0.9642857142857143\n"
          ]
        },
        {
          "output_type": "stream",
          "name": "stderr",
          "text": [
            "/usr/local/lib/python3.10/dist-packages/sklearn/linear_model/_logistic.py:458: ConvergenceWarning: lbfgs failed to converge (status=1):\n",
            "STOP: TOTAL NO. of ITERATIONS REACHED LIMIT.\n",
            "\n",
            "Increase the number of iterations (max_iter) or scale the data as shown in:\n",
            "    https://scikit-learn.org/stable/modules/preprocessing.html\n",
            "Please also refer to the documentation for alternative solver options:\n",
            "    https://scikit-learn.org/stable/modules/linear_model.html#logistic-regression\n",
            "  n_iter_i = _check_optimize_result(\n"
          ]
        }
      ]
    },
    {
      "cell_type": "code",
      "source": [
        "from sklearn.tree import DecisionTreeClassifier\n",
        "v=DecisionTreeClassifier()\n",
        "v.fit(x_train,y_train)\n",
        "prediction2=v.predict(x_test)\n",
        "print(\"******DATA CLASSIFICATION******\")\n",
        "print()\n",
        "print(\"****ACCURACY BY USING DECISION TREE CLASSIFIER ALGORITHM****:\")\n",
        "print()\n",
        "print(\"ACCURACY = \",accuracy_score(y_test,prediction2))"
      ],
      "metadata": {
        "id": "qy9c-ErqcE40",
        "colab": {
          "base_uri": "https://localhost:8080/"
        },
        "outputId": "524eaaa6-ac46-452a-c9e6-5a395a93919e"
      },
      "execution_count": null,
      "outputs": [
        {
          "output_type": "stream",
          "name": "stdout",
          "text": [
            "******DATA CLASSIFICATION******\n",
            "\n",
            "****ACCURACY BY USING DECISION TREE CLASSIFIER ALGORITHM****:\n",
            "\n",
            "ACCURACY =  1.0\n"
          ]
        }
      ]
    },
    {
      "cell_type": "code",
      "source": [
        "from sklearn.ensemble import RandomForestClassifier\n",
        "r=RandomForestClassifier()\n",
        "r.fit(x_train,y_train)\n",
        "prediction3=r.predict(x_test)\n",
        "print(\"******DATA CLASSIFICATION******\")\n",
        "print(\"****ACCURACY BY USING RANDOM FOREST CLASSFIER ALGORITHM****:\")\n",
        "print(\" ACCURACY = \",accuracy_score(y_test,prediction3))\n",
        "\n"
      ],
      "metadata": {
        "id": "l-_51NUBcEwf",
        "colab": {
          "base_uri": "https://localhost:8080/"
        },
        "outputId": "07b026d3-36dd-4ea9-8154-f436bbc1ac0c"
      },
      "execution_count": null,
      "outputs": [
        {
          "output_type": "stream",
          "name": "stdout",
          "text": [
            "******DATA CLASSIFICATION******\n",
            "****ACCURACY BY USING RANDOM FOREST CLASSFIER ALGORITHM****:\n",
            " ACCURACY =  1.0\n"
          ]
        }
      ]
    },
    {
      "cell_type": "code",
      "source": [
        "from sklearn.naive_bayes import GaussianNB\n",
        "g=GaussianNB()\n",
        "g.fit(x_train,y_train)\n",
        "prediction4=g.predict(x_test)\n",
        "print(\"******DATA CLASSIFICATION******\")\n",
        "print(\"****ACCURACY BY USING GAUSSIAN NB ALGORITHM****:\")\n",
        "print(\"ACCURACY = \",accuracy_score(y_test,prediction4))\n",
        "\n"
      ],
      "metadata": {
        "colab": {
          "base_uri": "https://localhost:8080/"
        },
        "id": "z7j043RjhAkN",
        "outputId": "6ecf4ec6-5f8b-4575-8eb3-e991a81aa14a"
      },
      "execution_count": null,
      "outputs": [
        {
          "output_type": "stream",
          "name": "stdout",
          "text": [
            "******DATA CLASSIFICATION******\n",
            "****ACCURACY BY USING GAUSSIAN NB ALGORITHM****:\n",
            "ACCURACY =  1.0\n"
          ]
        }
      ]
    },
    {
      "cell_type": "code",
      "source": [
        "from sklearn.neighbors import KNeighborsClassifier\n",
        "n=KNeighborsClassifier()\n",
        "n.fit(x_train,y_train)\n",
        "prediction5=n.predict(x_test)\n",
        "print(\"******DATA CLASSIFICATION******\")\n",
        "print(\"****ACCURACY BY USING KN NEIGHBORS CLASSIFIER ALGORITHM****:\")\n",
        "print(\"ACCURACY = \",accuracy_score(y_test,prediction5))"
      ],
      "metadata": {
        "colab": {
          "base_uri": "https://localhost:8080/"
        },
        "id": "jk--jPZoh0dM",
        "outputId": "93f4e740-63b7-4e40-83ab-a314f0b94760"
      },
      "execution_count": null,
      "outputs": [
        {
          "output_type": "stream",
          "name": "stdout",
          "text": [
            "******DATA CLASSIFICATION******\n",
            "****ACCURACY BY USING KN NEIGHBORS CLASSIFIER ALGORITHM****:\n",
            "ACCURACY =  0.4880952380952381\n"
          ]
        }
      ]
    },
    {
      "cell_type": "code",
      "source": [
        "from sklearn import svm\n",
        "sv=svm.SVC()\n",
        "sv.fit(x_train,y_train)\n",
        "prediction6=sv.predict(x_test)\n",
        "print(\"******DATA CLASSIFICATION******\")\n",
        "print(\"****ACCURACY BY USING SVM ALGORITHM****:\")\n",
        "print(\"ACCURACY = \",accuracy_score(y_test,prediction6))"
      ],
      "metadata": {
        "colab": {
          "base_uri": "https://localhost:8080/"
        },
        "id": "bOCe4wHtiBph",
        "outputId": "5540b5a7-7fe7-436d-d828-12146af63906"
      },
      "execution_count": null,
      "outputs": [
        {
          "output_type": "stream",
          "name": "stdout",
          "text": [
            "******DATA CLASSIFICATION******\n",
            "****ACCURACY BY USING SVM ALGORITHM****:\n",
            "ACCURACY =  0.5833333333333334\n"
          ]
        }
      ]
    },
    {
      "cell_type": "code",
      "source": [
        "\n",
        "from matplotlib import pyplot as plt\n",
        "print(\"******DATA VISUALIZATION*******\")\n",
        "print(\"*****LINE PLOT FOR Pclass AND SEX*****:\")\n",
        "plt.plot(a[\"Pclass\"],a[\"Sex\"])"
      ],
      "metadata": {
        "colab": {
          "base_uri": "https://localhost:8080/",
          "height": 482
        },
        "id": "_Bd7juXqimuq",
        "outputId": "364c8ad1-5508-4879-cbb6-65327086edce"
      },
      "execution_count": null,
      "outputs": [
        {
          "output_type": "stream",
          "name": "stdout",
          "text": [
            "******DATA VISUALIZATION*******\n",
            "*****LINE PLOT FOR Pclass AND SEX*****:\n"
          ]
        },
        {
          "output_type": "execute_result",
          "data": {
            "text/plain": [
              "[<matplotlib.lines.Line2D at 0x78d74adddcc0>]"
            ]
          },
          "metadata": {},
          "execution_count": 52
        },
        {
          "output_type": "display_data",
          "data": {
            "text/plain": [
              "<Figure size 640x480 with 1 Axes>"
            ],
            "image/png": "[encoded data removed]"
          },
          "metadata": {}
        }
      ]
    },
    {
      "cell_type": "code",
      "source": [
        "print(\"*****BAR CHART FOR Embarked AND Survived*****:\")\n",
        "plt.bar(a[\"Embarked\"],a[\"Survived\"])"
      ],
      "metadata": {
        "colab": {
          "base_uri": "https://localhost:8080/",
          "height": 465
        },
        "id": "EY5ug2F7imsY",
        "outputId": "d3ffa8cf-0f33-43fb-9848-9af9021cef44"
      },
      "execution_count": null,
      "outputs": [
        {
          "output_type": "stream",
          "name": "stdout",
          "text": [
            "*****BAR CHART FOR Embarked AND Survived*****:\n"
          ]
        },
        {
          "output_type": "execute_result",
          "data": {
            "text/plain": [
              "<BarContainer object of 418 artists>"
            ]
          },
          "metadata": {},
          "execution_count": 53
        },
        {
          "output_type": "display_data",
          "data": {
            "text/plain": [
              "<Figure size 640x480 with 1 Axes>"
            ],
            "image/png": "[encoded data removed]"
          },
          "metadata": {}
        }
      ]
    },
    {
      "cell_type": "code",
      "source": [
        "print(\"*****SCATTER PLOT FOR Sibsp AND Parch*****:\")\n",
        "plt.scatter(a[\"SibSp\"],a[\"Parch\"])"
      ],
      "metadata": {
        "colab": {
          "base_uri": "https://localhost:8080/",
          "height": 465
        },
        "id": "nh7SHEO-impw",
        "outputId": "3268b3b2-5258-414e-ef8e-db0a0d38b09a"
      },
      "execution_count": null,
      "outputs": [
        {
          "output_type": "stream",
          "name": "stdout",
          "text": [
            "*****SCATTER PLOT FOR Sibsp AND Parch*****:\n"
          ]
        },
        {
          "output_type": "execute_result",
          "data": {
            "text/plain": [
              "<matplotlib.collections.PathCollection at 0x78d74a8f57e0>"
            ]
          },
          "metadata": {},
          "execution_count": 54
        },
        {
          "output_type": "display_data",
          "data": {
            "text/plain": [
              "<Figure size 640x480 with 1 Axes>"
            ],
            "image/png": "[encoded data removed]"
          },
          "metadata": {}
        }
      ]
    },
    {
      "cell_type": "code",
      "source": [
        "print(\"******HISTOGRAM FOR Fare******:\")\n",
        "plt.hist(a[\"Fare\"])"
      ],
      "metadata": {
        "colab": {
          "base_uri": "https://localhost:8080/",
          "height": 517
        },
        "id": "50r5IutqimnI",
        "outputId": "6c0c450a-37a3-49a5-9665-6933edefe64c"
      },
      "execution_count": null,
      "outputs": [
        {
          "output_type": "stream",
          "name": "stdout",
          "text": [
            "******HISTOGRAM FOR Fare******:\n"
          ]
        },
        {
          "output_type": "execute_result",
          "data": {
            "text/plain": [
              "(array([339.,  48.,  11.,   2.,  10.,   7.,   0.,   0.,   0.,   1.]),\n",
              " array([  0.     ,  51.23292, 102.46584, 153.69876, 204.93168, 256.1646 ,\n",
              "        307.39752, 358.63044, 409.86336, 461.09628, 512.3292 ]),\n",
              " <BarContainer object of 10 artists>)"
            ]
          },
          "metadata": {},
          "execution_count": 55
        },
        {
          "output_type": "display_data",
          "data": {
            "text/plain": [
              "<Figure size 640x480 with 1 Axes>"
            ],
            "image/png": "[encoded data removed]"
          },
          "metadata": {}
        }
      ]
    },
    {
      "cell_type": "code",
      "source": [
        "import seaborn as s\n",
        "print(\"*****IMPLOT FOR AGE AND Survived*****:\")\n",
        "s.lmplot(x=\"Age\",y=\"Survived\",data=a)"
      ],
      "metadata": {
        "colab": {
          "base_uri": "https://localhost:8080/",
          "height": 541
        },
        "id": "zmsbOuDVimk4",
        "outputId": "c842afd4-03a6-436d-ce4a-4f1f6b5e0523"
      },
      "execution_count": null,
      "outputs": [
        {
          "output_type": "stream",
          "name": "stdout",
          "text": [
            "*****IMPLOT FOR AGE AND Survived*****:\n"
          ]
        },
        {
          "output_type": "execute_result",
          "data": {
            "text/plain": [
              "<seaborn.axisgrid.FacetGrid at 0x78d74a8a4e20>"
            ]
          },
          "metadata": {},
          "execution_count": 56
        },
        {
          "output_type": "display_data",
          "data": {
            "text/plain": [
              "<Figure size 500x500 with 1 Axes>"
            ],
            "image/png": "[encoded data removed]"
          },
          "metadata": {}
        }
      ]
    },
    {
      "cell_type": "code",
      "source": [
        "print(\"*****BAR PLOT FOR Survived AND Cabin*****:\")\n",
        "s.barplot(x=\"Survived\",y=\"Cabin\",data=a)"
      ],
      "metadata": {
        "colab": {
          "base_uri": "https://localhost:8080/",
          "height": 484
        },
        "id": "BgoJY_lUimia",
        "outputId": "9c116a6b-0868-4ebe-ee0b-f7304bcd7e24"
      },
      "execution_count": null,
      "outputs": [
        {
          "output_type": "stream",
          "name": "stdout",
          "text": [
            "*****BAR PLOT FOR Survived AND Cabin*****:\n"
          ]
        },
        {
          "output_type": "execute_result",
          "data": {
            "text/plain": [
              "<Axes: xlabel='Survived', ylabel='Cabin'>"
            ]
          },
          "metadata": {},
          "execution_count": 57
        },
        {
          "output_type": "display_data",
          "data": {
            "text/plain": [
              "<Figure size 640x480 with 1 Axes>"
            ],
            "image/png": "[encoded data removed]"
          },
          "metadata": {}
        }
      ]
    },
    {
      "cell_type": "code",
      "source": [
        "print(\"*****BOX PLOT FOR Pclass AND Survived*****:\")\n",
        "s.boxplot(x=\"Pclass\",y=\"Survived\",data=a)"
      ],
      "metadata": {
        "colab": {
          "base_uri": "https://localhost:8080/",
          "height": 484
        },
        "id": "aNQSOJocime4",
        "outputId": "77013177-c98a-4a19-cdba-fa07d7067510"
      },
      "execution_count": null,
      "outputs": [
        {
          "output_type": "stream",
          "name": "stdout",
          "text": [
            "*****BOX PLOT FOR Pclass AND Survived*****:\n"
          ]
        },
        {
          "output_type": "execute_result",
          "data": {
            "text/plain": [
              "<Axes: xlabel='Pclass', ylabel='Survived'>"
            ]
          },
          "metadata": {},
          "execution_count": 58
        },
        {
          "output_type": "display_data",
          "data": {
            "text/plain": [
              "<Figure size 640x480 with 1 Axes>"
            ],
            "image/png": "[encoded data removed]"
          },
          "metadata": {}
        }
      ]
    },
    {
      "cell_type": "code",
      "source": [
        "print(\"*****DISTRIBUTION FOR Name*****:\")\n",
        "s.distplot(a.Name)"
      ],
      "metadata": {
        "colab": {
          "base_uri": "https://localhost:8080/",
          "height": 675
        },
        "id": "GS4dKe_FimYY",
        "outputId": "43f28900-119f-4c7e-def0-44126c1d04e9"
      },
      "execution_count": null,
      "outputs": [
        {
          "output_type": "stream",
          "name": "stdout",
          "text": [
            "*****DISTRIBUTION FOR Name*****:\n"
          ]
        },
        {
          "output_type": "stream",
          "name": "stderr",
          "text": [
            "<ipython-input-59-011ab52285f2>:2: UserWarning: \n",
            "\n",
            "`distplot` is a deprecated function and will be removed in seaborn v0.14.0.\n",
            "\n",
            "Please adapt your code to use either `displot` (a figure-level function with\n",
            "similar flexibility) or `histplot` (an axes-level function for histograms).\n",
            "\n",
            "For a guide to updating your code to use the new functions, please see\n",
            "https://gist.github.com/mwaskom/de44147ed2974457ad6372750bbe5751\n",
            "\n",
            "  s.distplot(a.Name)\n"
          ]
        },
        {
          "output_type": "execute_result",
          "data": {
            "text/plain": [
              "<Axes: xlabel='Name', ylabel='Density'>"
            ]
          },
          "metadata": {},
          "execution_count": 59
        },
        {
          "output_type": "display_data",
          "data": {
            "text/plain": [
              "<Figure size 640x480 with 1 Axes>"
            ],
            "image/png": "[encoded data removed]"
          },
          "metadata": {}
        }
      ]
    },
    {
      "cell_type": "code",
      "source": [
        "s.countplot(x=a[\"SibSp\"],hue=a[\"Survived\"])"
      ],
      "metadata": {
        "colab": {
          "base_uri": "https://localhost:8080/",
          "height": 466
        },
        "id": "5A_OaOUz0woO",
        "outputId": "93ae4905-c2e4-41bf-b957-721f1015fdc3"
      },
      "execution_count": null,
      "outputs": [
        {
          "output_type": "execute_result",
          "data": {
            "text/plain": [
              "<Axes: xlabel='SibSp', ylabel='count'>"
            ]
          },
          "metadata": {},
          "execution_count": 65
        },
        {
          "output_type": "display_data",
          "data": {
            "text/plain": [
              "<Figure size 640x480 with 1 Axes>"
            ],
            "image/png": "[encoded data removed]"
          },
          "metadata": {}
        }
      ]
    }
  ]
}